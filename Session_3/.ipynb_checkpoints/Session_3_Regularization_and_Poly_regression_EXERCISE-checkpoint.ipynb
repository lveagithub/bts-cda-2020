{
 "cells": [
  {
   "cell_type": "markdown",
   "metadata": {
    "id": "T_U6YCp9QD33"
   },
   "source": [
    "\n",
    "![BTS](https://github.com/vfp1/bts-dsf-2020/raw/main/Logo-BTS.jpg)\n",
    "\n",
    "# Session 3: Logistic Regression EXERCISE\n",
    "\n",
    "### Victor F. Pajuelo Madrigal <victor.pajuelo@bts.tech> - Classical Data Analysis (2020-12-21)\n",
    "\n",
    "Open this notebook in Google Colaboratory: [![Open in Colab](https://colab.research.google.com/assets/colab-badge.svg)](https://colab.research.google.com/github/vfp1/bts-cda-2020/blob/main/Session_3/Session_3_Regularization_and_Poly_regression_EXERCISE.ipynb)\n",
    "\n",
    "**Resources:**\n",
    "* Auréliene Géron, Hands On ML with SKlearn, Keras and TF"
   ]
  },
  {
   "cell_type": "markdown",
   "metadata": {
    "id": "47cNdF6xP5eF"
   },
   "source": [
    "# Regression with regularization"
   ]
  },
  {
   "cell_type": "markdown",
   "metadata": {
    "id": "I-2OcibZP5eH"
   },
   "source": [
    "#### We will using the Boston Housing Dataset available in sklearn and we will extend it with  5 additional features of random noise to test each algorithm’s ability to filter out irrelevant information:\n",
    "\n",
    "- **Examine the results of applying Linear Regression, Lasso Regression, Ridge Regression and Elastic Net on the features scores**\n",
    "- **Try to modify the hyperparameters lambda and describe how it affects the parmeter scores**\n",
    "\n",
    "This is the very same exercise that we did in class, try to go in depth into the tradeoffs of lambda (alpha) and others"
   ]
  },
  {
   "cell_type": "markdown",
   "metadata": {
    "id": "oGLVXZSyP5eH"
   },
   "source": [
    "### Import libraries and dataset from sklearn"
   ]
  },
  {
   "cell_type": "code",
   "execution_count": 1,
   "metadata": {
    "id": "YfgiMb3fP5eI",
    "outputId": "fc67f653-cff5-420b-bf56-3d63a2df7b25"
   },
   "outputs": [
    {
     "data": {
      "text/html": [
       "<div>\n",
       "<style scoped>\n",
       "    .dataframe tbody tr th:only-of-type {\n",
       "        vertical-align: middle;\n",
       "    }\n",
       "\n",
       "    .dataframe tbody tr th {\n",
       "        vertical-align: top;\n",
       "    }\n",
       "\n",
       "    .dataframe thead th {\n",
       "        text-align: right;\n",
       "    }\n",
       "</style>\n",
       "<table border=\"1\" class=\"dataframe\">\n",
       "  <thead>\n",
       "    <tr style=\"text-align: right;\">\n",
       "      <th></th>\n",
       "      <th>CRIM</th>\n",
       "      <th>ZN</th>\n",
       "      <th>INDUS</th>\n",
       "      <th>CHAS</th>\n",
       "      <th>NOX</th>\n",
       "      <th>RM</th>\n",
       "      <th>AGE</th>\n",
       "      <th>DIS</th>\n",
       "      <th>RAD</th>\n",
       "      <th>TAX</th>\n",
       "      <th>PTRATIO</th>\n",
       "      <th>B</th>\n",
       "      <th>LSTAT</th>\n",
       "    </tr>\n",
       "  </thead>\n",
       "  <tbody>\n",
       "    <tr>\n",
       "      <th>0</th>\n",
       "      <td>0.00632</td>\n",
       "      <td>18.0</td>\n",
       "      <td>2.31</td>\n",
       "      <td>0.0</td>\n",
       "      <td>0.538</td>\n",
       "      <td>6.575</td>\n",
       "      <td>65.2</td>\n",
       "      <td>4.0900</td>\n",
       "      <td>1.0</td>\n",
       "      <td>296.0</td>\n",
       "      <td>15.3</td>\n",
       "      <td>396.90</td>\n",
       "      <td>4.98</td>\n",
       "    </tr>\n",
       "    <tr>\n",
       "      <th>1</th>\n",
       "      <td>0.02731</td>\n",
       "      <td>0.0</td>\n",
       "      <td>7.07</td>\n",
       "      <td>0.0</td>\n",
       "      <td>0.469</td>\n",
       "      <td>6.421</td>\n",
       "      <td>78.9</td>\n",
       "      <td>4.9671</td>\n",
       "      <td>2.0</td>\n",
       "      <td>242.0</td>\n",
       "      <td>17.8</td>\n",
       "      <td>396.90</td>\n",
       "      <td>9.14</td>\n",
       "    </tr>\n",
       "    <tr>\n",
       "      <th>2</th>\n",
       "      <td>0.02729</td>\n",
       "      <td>0.0</td>\n",
       "      <td>7.07</td>\n",
       "      <td>0.0</td>\n",
       "      <td>0.469</td>\n",
       "      <td>7.185</td>\n",
       "      <td>61.1</td>\n",
       "      <td>4.9671</td>\n",
       "      <td>2.0</td>\n",
       "      <td>242.0</td>\n",
       "      <td>17.8</td>\n",
       "      <td>392.83</td>\n",
       "      <td>4.03</td>\n",
       "    </tr>\n",
       "    <tr>\n",
       "      <th>3</th>\n",
       "      <td>0.03237</td>\n",
       "      <td>0.0</td>\n",
       "      <td>2.18</td>\n",
       "      <td>0.0</td>\n",
       "      <td>0.458</td>\n",
       "      <td>6.998</td>\n",
       "      <td>45.8</td>\n",
       "      <td>6.0622</td>\n",
       "      <td>3.0</td>\n",
       "      <td>222.0</td>\n",
       "      <td>18.7</td>\n",
       "      <td>394.63</td>\n",
       "      <td>2.94</td>\n",
       "    </tr>\n",
       "    <tr>\n",
       "      <th>4</th>\n",
       "      <td>0.06905</td>\n",
       "      <td>0.0</td>\n",
       "      <td>2.18</td>\n",
       "      <td>0.0</td>\n",
       "      <td>0.458</td>\n",
       "      <td>7.147</td>\n",
       "      <td>54.2</td>\n",
       "      <td>6.0622</td>\n",
       "      <td>3.0</td>\n",
       "      <td>222.0</td>\n",
       "      <td>18.7</td>\n",
       "      <td>396.90</td>\n",
       "      <td>5.33</td>\n",
       "    </tr>\n",
       "  </tbody>\n",
       "</table>\n",
       "</div>"
      ],
      "text/plain": [
       "      CRIM    ZN  INDUS  CHAS    NOX     RM   AGE     DIS  RAD    TAX  \\\n",
       "0  0.00632  18.0   2.31   0.0  0.538  6.575  65.2  4.0900  1.0  296.0   \n",
       "1  0.02731   0.0   7.07   0.0  0.469  6.421  78.9  4.9671  2.0  242.0   \n",
       "2  0.02729   0.0   7.07   0.0  0.469  7.185  61.1  4.9671  2.0  242.0   \n",
       "3  0.03237   0.0   2.18   0.0  0.458  6.998  45.8  6.0622  3.0  222.0   \n",
       "4  0.06905   0.0   2.18   0.0  0.458  7.147  54.2  6.0622  3.0  222.0   \n",
       "\n",
       "   PTRATIO       B  LSTAT  \n",
       "0     15.3  396.90   4.98  \n",
       "1     17.8  396.90   9.14  \n",
       "2     17.8  392.83   4.03  \n",
       "3     18.7  394.63   2.94  \n",
       "4     18.7  396.90   5.33  "
      ]
     },
     "execution_count": 1,
     "metadata": {},
     "output_type": "execute_result"
    }
   ],
   "source": [
    "#import matplotlib.pyplot as plt\n",
    "#import numpy as np \n",
    "#import pandas as pd\n",
    "#import matplotlib\n",
    "#matplotlib.rcParams.update({'font.size': 12})\n",
    "#from sklearn.datasets import load_boston\n",
    "#from sklearn.model_selection import train_test_split\n",
    "#from sklearn.linear_model import LinearRegression\n",
    "#from sklearn.linear_model import Ridge\n",
    "#from sklearn import metrics\n",
    "#from sklearn.metrics import mean_squared_error\n",
    "\n",
    "%config IPCompleter.greedy=True\n",
    "%load_ext memory_profiler\n",
    "%matplotlib inline\n",
    "%run Session_3_Regularization_and_Poly_regression_EXERCISE_Helper.ipynb\n",
    "%run Session_3_Regularization_and_Poly_regression_EXERCISE_Plot.ipynb\n",
    "\n",
    "boston=load_boston()\n",
    "boston_df=pd.DataFrame(boston.data,columns=boston.feature_names)\n",
    "\n",
    "boston_df.head()"
   ]
  },
  {
   "cell_type": "code",
   "execution_count": null,
   "metadata": {
    "id": "kAFzeugPP5eJ"
   },
   "outputs": [],
   "source": []
  },
  {
   "cell_type": "markdown",
   "metadata": {
    "id": "W7fJX1LuP5eK"
   },
   "source": [
    "### Add Noise to original dataset"
   ]
  },
  {
   "cell_type": "code",
   "execution_count": 2,
   "metadata": {
    "id": "kOCkhsAZP5eK"
   },
   "outputs": [],
   "source": [
    "n_houses = boston_df.shape[0]\n",
    "rand_noise = np.random.rand(n_houses, 5)\n",
    "\n",
    "rand_noise_df = pd.DataFrame(data=rand_noise, columns=['Noise_1', 'Noise_2', 'Noise_3', 'Noise_4', 'Noise_5'])\n",
    "X = pd.concat([boston_df, rand_noise_df], axis=1)\n",
    "y = boston['target']\n"
   ]
  },
  {
   "cell_type": "code",
   "execution_count": 3,
   "metadata": {
    "id": "cG1PjrYhP5eK",
    "outputId": "be058aa6-40fa-4ad0-ebb1-5eeb2dd9b7f7"
   },
   "outputs": [
    {
     "data": {
      "text/html": [
       "<div>\n",
       "<style scoped>\n",
       "    .dataframe tbody tr th:only-of-type {\n",
       "        vertical-align: middle;\n",
       "    }\n",
       "\n",
       "    .dataframe tbody tr th {\n",
       "        vertical-align: top;\n",
       "    }\n",
       "\n",
       "    .dataframe thead th {\n",
       "        text-align: right;\n",
       "    }\n",
       "</style>\n",
       "<table border=\"1\" class=\"dataframe\">\n",
       "  <thead>\n",
       "    <tr style=\"text-align: right;\">\n",
       "      <th></th>\n",
       "      <th>CRIM</th>\n",
       "      <th>ZN</th>\n",
       "      <th>INDUS</th>\n",
       "      <th>CHAS</th>\n",
       "      <th>NOX</th>\n",
       "      <th>RM</th>\n",
       "      <th>AGE</th>\n",
       "      <th>DIS</th>\n",
       "      <th>RAD</th>\n",
       "      <th>TAX</th>\n",
       "      <th>PTRATIO</th>\n",
       "      <th>B</th>\n",
       "      <th>LSTAT</th>\n",
       "      <th>Noise_1</th>\n",
       "      <th>Noise_2</th>\n",
       "      <th>Noise_3</th>\n",
       "      <th>Noise_4</th>\n",
       "      <th>Noise_5</th>\n",
       "    </tr>\n",
       "  </thead>\n",
       "  <tbody>\n",
       "    <tr>\n",
       "      <th>0</th>\n",
       "      <td>0.00632</td>\n",
       "      <td>18.0</td>\n",
       "      <td>2.31</td>\n",
       "      <td>0.0</td>\n",
       "      <td>0.538</td>\n",
       "      <td>6.575</td>\n",
       "      <td>65.2</td>\n",
       "      <td>4.0900</td>\n",
       "      <td>1.0</td>\n",
       "      <td>296.0</td>\n",
       "      <td>15.3</td>\n",
       "      <td>396.90</td>\n",
       "      <td>4.98</td>\n",
       "      <td>0.931285</td>\n",
       "      <td>0.034130</td>\n",
       "      <td>0.207022</td>\n",
       "      <td>0.096231</td>\n",
       "      <td>0.739225</td>\n",
       "    </tr>\n",
       "    <tr>\n",
       "      <th>1</th>\n",
       "      <td>0.02731</td>\n",
       "      <td>0.0</td>\n",
       "      <td>7.07</td>\n",
       "      <td>0.0</td>\n",
       "      <td>0.469</td>\n",
       "      <td>6.421</td>\n",
       "      <td>78.9</td>\n",
       "      <td>4.9671</td>\n",
       "      <td>2.0</td>\n",
       "      <td>242.0</td>\n",
       "      <td>17.8</td>\n",
       "      <td>396.90</td>\n",
       "      <td>9.14</td>\n",
       "      <td>0.042927</td>\n",
       "      <td>0.732063</td>\n",
       "      <td>0.313576</td>\n",
       "      <td>0.399356</td>\n",
       "      <td>0.410275</td>\n",
       "    </tr>\n",
       "    <tr>\n",
       "      <th>2</th>\n",
       "      <td>0.02729</td>\n",
       "      <td>0.0</td>\n",
       "      <td>7.07</td>\n",
       "      <td>0.0</td>\n",
       "      <td>0.469</td>\n",
       "      <td>7.185</td>\n",
       "      <td>61.1</td>\n",
       "      <td>4.9671</td>\n",
       "      <td>2.0</td>\n",
       "      <td>242.0</td>\n",
       "      <td>17.8</td>\n",
       "      <td>392.83</td>\n",
       "      <td>4.03</td>\n",
       "      <td>0.120548</td>\n",
       "      <td>0.039702</td>\n",
       "      <td>0.997667</td>\n",
       "      <td>0.860045</td>\n",
       "      <td>0.902775</td>\n",
       "    </tr>\n",
       "    <tr>\n",
       "      <th>3</th>\n",
       "      <td>0.03237</td>\n",
       "      <td>0.0</td>\n",
       "      <td>2.18</td>\n",
       "      <td>0.0</td>\n",
       "      <td>0.458</td>\n",
       "      <td>6.998</td>\n",
       "      <td>45.8</td>\n",
       "      <td>6.0622</td>\n",
       "      <td>3.0</td>\n",
       "      <td>222.0</td>\n",
       "      <td>18.7</td>\n",
       "      <td>394.63</td>\n",
       "      <td>2.94</td>\n",
       "      <td>0.255646</td>\n",
       "      <td>0.036003</td>\n",
       "      <td>0.533629</td>\n",
       "      <td>0.762828</td>\n",
       "      <td>0.448306</td>\n",
       "    </tr>\n",
       "    <tr>\n",
       "      <th>4</th>\n",
       "      <td>0.06905</td>\n",
       "      <td>0.0</td>\n",
       "      <td>2.18</td>\n",
       "      <td>0.0</td>\n",
       "      <td>0.458</td>\n",
       "      <td>7.147</td>\n",
       "      <td>54.2</td>\n",
       "      <td>6.0622</td>\n",
       "      <td>3.0</td>\n",
       "      <td>222.0</td>\n",
       "      <td>18.7</td>\n",
       "      <td>396.90</td>\n",
       "      <td>5.33</td>\n",
       "      <td>0.572031</td>\n",
       "      <td>0.788414</td>\n",
       "      <td>0.128462</td>\n",
       "      <td>0.719627</td>\n",
       "      <td>0.419600</td>\n",
       "    </tr>\n",
       "  </tbody>\n",
       "</table>\n",
       "</div>"
      ],
      "text/plain": [
       "      CRIM    ZN  INDUS  CHAS    NOX     RM   AGE     DIS  RAD    TAX  \\\n",
       "0  0.00632  18.0   2.31   0.0  0.538  6.575  65.2  4.0900  1.0  296.0   \n",
       "1  0.02731   0.0   7.07   0.0  0.469  6.421  78.9  4.9671  2.0  242.0   \n",
       "2  0.02729   0.0   7.07   0.0  0.469  7.185  61.1  4.9671  2.0  242.0   \n",
       "3  0.03237   0.0   2.18   0.0  0.458  6.998  45.8  6.0622  3.0  222.0   \n",
       "4  0.06905   0.0   2.18   0.0  0.458  7.147  54.2  6.0622  3.0  222.0   \n",
       "\n",
       "   PTRATIO       B  LSTAT   Noise_1   Noise_2   Noise_3   Noise_4   Noise_5  \n",
       "0     15.3  396.90   4.98  0.931285  0.034130  0.207022  0.096231  0.739225  \n",
       "1     17.8  396.90   9.14  0.042927  0.732063  0.313576  0.399356  0.410275  \n",
       "2     17.8  392.83   4.03  0.120548  0.039702  0.997667  0.860045  0.902775  \n",
       "3     18.7  394.63   2.94  0.255646  0.036003  0.533629  0.762828  0.448306  \n",
       "4     18.7  396.90   5.33  0.572031  0.788414  0.128462  0.719627  0.419600  "
      ]
     },
     "execution_count": 3,
     "metadata": {},
     "output_type": "execute_result"
    }
   ],
   "source": [
    "X.head()"
   ]
  },
  {
   "cell_type": "code",
   "execution_count": 4,
   "metadata": {
    "id": "wfKjAvf4P5eL",
    "outputId": "bef4eebb-40a2-4081-e5bf-e05e2e62dea7"
   },
   "outputs": [
    {
     "data": {
      "text/plain": [
       "array([24. , 21.6, 34.7, 33.4, 36.2])"
      ]
     },
     "execution_count": 4,
     "metadata": {},
     "output_type": "execute_result"
    }
   ],
   "source": [
    "y[0:5]"
   ]
  },
  {
   "cell_type": "markdown",
   "metadata": {
    "id": "hx6KUx1kP5eL"
   },
   "source": [
    "### Implement classical linear regression, Lasso, Ridge and ElasticNet (use the default parameter of sklearn) and describe how the scores of the features change"
   ]
  },
  {
   "cell_type": "code",
   "execution_count": 5,
   "metadata": {
    "id": "YWVwV1sHP5eM"
   },
   "outputs": [],
   "source": [
    "#from sklearn.linear_model import LinearRegression, Lasso, Ridge, ElasticNet\n",
    "\n",
    "# CREATE MODEL INSTANCES\n",
    "\n",
    "# PUT YOUR CODE HERE"
   ]
  },
  {
   "cell_type": "code",
   "execution_count": 6,
   "metadata": {},
   "outputs": [],
   "source": [
    "boston_lr = LinearRegression()\n",
    "boston_ls = Lasso()\n",
    "boston_rg = Ridge(alpha=10)\n",
    "boston_en = ElasticNet()\n",
    "models = [(boston_lr, 'Linear Regression'),\n",
    "           (boston_ls, 'Lasso'),\n",
    "           (boston_rg, \"Ridge Regression\"),\n",
    "           (boston_en, \"Elastic Net\")]"
   ]
  },
  {
   "cell_type": "markdown",
   "metadata": {
    "id": "Vp3_wR5CP5eM"
   },
   "source": [
    "##### NORMALIZE DATA USING THE ```StandardScaler``` PROVIDED BY sklearn"
   ]
  },
  {
   "cell_type": "code",
   "execution_count": 7,
   "metadata": {
    "id": "Ftfk1EaAP5eM"
   },
   "outputs": [],
   "source": [
    "from sklearn.preprocessing import StandardScaler\n",
    "\n",
    "boston_ss = StandardScaler()\n",
    "X_scaled = boston_ss.fit_transform(X=X)\n",
    "\n",
    "X_train, X_test, y_train, y_test = train_test_split(X_scaled, y, test_size=0.25, random_state=235)"
   ]
  },
  {
   "cell_type": "code",
   "execution_count": 8,
   "metadata": {},
   "outputs": [
    {
     "name": "stdout",
     "output_type": "stream",
     "text": [
      "Plotting helper version 1.0\n"
     ]
    }
   ],
   "source": [
    "plottingHelper = PlottingHelper(version = \"1.0\")\n",
    "print(plottingHelper)"
   ]
  },
  {
   "cell_type": "code",
   "execution_count": 9,
   "metadata": {},
   "outputs": [
    {
     "data": {
      "image/png": "[encoded data removed]",
      "text/plain": [
       "<Figure size 432x288 with 1 Axes>"
      ]
     },
     "metadata": {
      "needs_background": "light"
     },
     "output_type": "display_data"
    },
    {
     "data": {
      "image/png": "[encoded data removed]",
      "text/plain": [
       "<Figure size 432x288 with 1 Axes>"
      ]
     },
     "metadata": {
      "needs_background": "light"
     },
     "output_type": "display_data"
    },
    {
     "data": {
      "image/png": "[encoded data removed]",
      "text/plain": [
       "<Figure size 432x288 with 1 Axes>"
      ]
     },
     "metadata": {
      "needs_background": "light"
     },
     "output_type": "display_data"
    },
    {
     "data": {
      "image/png": "[encoded data removed]",
      "text/plain": [
       "<Figure size 432x288 with 1 Axes>"
      ]
     },
     "metadata": {
      "needs_background": "light"
     },
     "output_type": "display_data"
    },
    {
     "data": {
      "text/html": [
       "<div>\n",
       "<style scoped>\n",
       "    .dataframe tbody tr th:only-of-type {\n",
       "        vertical-align: middle;\n",
       "    }\n",
       "\n",
       "    .dataframe tbody tr th {\n",
       "        vertical-align: top;\n",
       "    }\n",
       "\n",
       "    .dataframe thead th {\n",
       "        text-align: right;\n",
       "    }\n",
       "</style>\n",
       "<table border=\"1\" class=\"dataframe\">\n",
       "  <thead>\n",
       "    <tr style=\"text-align: right;\">\n",
       "      <th></th>\n",
       "      <th>Feature Name</th>\n",
       "      <th>Linear Regression</th>\n",
       "      <th>Lasso</th>\n",
       "      <th>Ridge Regression</th>\n",
       "      <th>Elastic Net</th>\n",
       "    </tr>\n",
       "  </thead>\n",
       "  <tbody>\n",
       "    <tr>\n",
       "      <th>0</th>\n",
       "      <td>CRIM</td>\n",
       "      <td>-0.163748</td>\n",
       "      <td>-0.000000</td>\n",
       "      <td>-0.121136</td>\n",
       "      <td>-0.000000</td>\n",
       "    </tr>\n",
       "    <tr>\n",
       "      <th>1</th>\n",
       "      <td>ZN</td>\n",
       "      <td>0.775418</td>\n",
       "      <td>0.000000</td>\n",
       "      <td>0.651417</td>\n",
       "      <td>0.000000</td>\n",
       "    </tr>\n",
       "    <tr>\n",
       "      <th>2</th>\n",
       "      <td>INDUS</td>\n",
       "      <td>0.276577</td>\n",
       "      <td>-0.000000</td>\n",
       "      <td>0.089353</td>\n",
       "      <td>-0.112192</td>\n",
       "    </tr>\n",
       "    <tr>\n",
       "      <th>3</th>\n",
       "      <td>CHAS</td>\n",
       "      <td>1.053414</td>\n",
       "      <td>0.340719</td>\n",
       "      <td>1.073422</td>\n",
       "      <td>0.635905</td>\n",
       "    </tr>\n",
       "    <tr>\n",
       "      <th>4</th>\n",
       "      <td>NOX</td>\n",
       "      <td>-2.145077</td>\n",
       "      <td>-0.000000</td>\n",
       "      <td>-1.804934</td>\n",
       "      <td>-0.202282</td>\n",
       "    </tr>\n",
       "    <tr>\n",
       "      <th>5</th>\n",
       "      <td>RM</td>\n",
       "      <td>3.038647</td>\n",
       "      <td>3.075163</td>\n",
       "      <td>3.118017</td>\n",
       "      <td>2.618869</td>\n",
       "    </tr>\n",
       "    <tr>\n",
       "      <th>6</th>\n",
       "      <td>AGE</td>\n",
       "      <td>0.258327</td>\n",
       "      <td>-0.000000</td>\n",
       "      <td>0.154686</td>\n",
       "      <td>-0.000000</td>\n",
       "    </tr>\n",
       "    <tr>\n",
       "      <th>7</th>\n",
       "      <td>DIS</td>\n",
       "      <td>-2.826602</td>\n",
       "      <td>-0.000000</td>\n",
       "      <td>-2.549435</td>\n",
       "      <td>-0.014043</td>\n",
       "    </tr>\n",
       "    <tr>\n",
       "      <th>8</th>\n",
       "      <td>RAD</td>\n",
       "      <td>2.238258</td>\n",
       "      <td>-0.000000</td>\n",
       "      <td>1.663631</td>\n",
       "      <td>-0.000000</td>\n",
       "    </tr>\n",
       "    <tr>\n",
       "      <th>9</th>\n",
       "      <td>TAX</td>\n",
       "      <td>-1.562753</td>\n",
       "      <td>-0.000000</td>\n",
       "      <td>-1.089447</td>\n",
       "      <td>-0.224970</td>\n",
       "    </tr>\n",
       "    <tr>\n",
       "      <th>10</th>\n",
       "      <td>PTRATIO</td>\n",
       "      <td>-2.232483</td>\n",
       "      <td>-1.231897</td>\n",
       "      <td>-2.128229</td>\n",
       "      <td>-1.333656</td>\n",
       "    </tr>\n",
       "    <tr>\n",
       "      <th>11</th>\n",
       "      <td>B</td>\n",
       "      <td>1.065366</td>\n",
       "      <td>0.172007</td>\n",
       "      <td>1.062235</td>\n",
       "      <td>0.590854</td>\n",
       "    </tr>\n",
       "    <tr>\n",
       "      <th>12</th>\n",
       "      <td>LSTAT</td>\n",
       "      <td>-3.986014</td>\n",
       "      <td>-3.480674</td>\n",
       "      <td>-3.815191</td>\n",
       "      <td>-2.496310</td>\n",
       "    </tr>\n",
       "    <tr>\n",
       "      <th>13</th>\n",
       "      <td>Noise_1</td>\n",
       "      <td>0.118833</td>\n",
       "      <td>0.000000</td>\n",
       "      <td>0.104316</td>\n",
       "      <td>0.000000</td>\n",
       "    </tr>\n",
       "    <tr>\n",
       "      <th>14</th>\n",
       "      <td>Noise_2</td>\n",
       "      <td>-0.074258</td>\n",
       "      <td>-0.000000</td>\n",
       "      <td>-0.089836</td>\n",
       "      <td>-0.000000</td>\n",
       "    </tr>\n",
       "    <tr>\n",
       "      <th>15</th>\n",
       "      <td>Noise_3</td>\n",
       "      <td>-0.205489</td>\n",
       "      <td>-0.000000</td>\n",
       "      <td>-0.183925</td>\n",
       "      <td>-0.000000</td>\n",
       "    </tr>\n",
       "    <tr>\n",
       "      <th>16</th>\n",
       "      <td>Noise_4</td>\n",
       "      <td>-0.268109</td>\n",
       "      <td>-0.000000</td>\n",
       "      <td>-0.254057</td>\n",
       "      <td>-0.000000</td>\n",
       "    </tr>\n",
       "    <tr>\n",
       "      <th>17</th>\n",
       "      <td>Noise_5</td>\n",
       "      <td>0.083274</td>\n",
       "      <td>0.000000</td>\n",
       "      <td>0.080250</td>\n",
       "      <td>0.000000</td>\n",
       "    </tr>\n",
       "  </tbody>\n",
       "</table>\n",
       "</div>"
      ],
      "text/plain": [
       "   Feature Name  Linear Regression     Lasso  Ridge Regression  Elastic Net\n",
       "0          CRIM          -0.163748 -0.000000         -0.121136    -0.000000\n",
       "1            ZN           0.775418  0.000000          0.651417     0.000000\n",
       "2         INDUS           0.276577 -0.000000          0.089353    -0.112192\n",
       "3          CHAS           1.053414  0.340719          1.073422     0.635905\n",
       "4           NOX          -2.145077 -0.000000         -1.804934    -0.202282\n",
       "5            RM           3.038647  3.075163          3.118017     2.618869\n",
       "6           AGE           0.258327 -0.000000          0.154686    -0.000000\n",
       "7           DIS          -2.826602 -0.000000         -2.549435    -0.014043\n",
       "8           RAD           2.238258 -0.000000          1.663631    -0.000000\n",
       "9           TAX          -1.562753 -0.000000         -1.089447    -0.224970\n",
       "10      PTRATIO          -2.232483 -1.231897         -2.128229    -1.333656\n",
       "11            B           1.065366  0.172007          1.062235     0.590854\n",
       "12        LSTAT          -3.986014 -3.480674         -3.815191    -2.496310\n",
       "13      Noise_1           0.118833  0.000000          0.104316     0.000000\n",
       "14      Noise_2          -0.074258 -0.000000         -0.089836    -0.000000\n",
       "15      Noise_3          -0.205489 -0.000000         -0.183925    -0.000000\n",
       "16      Noise_4          -0.268109 -0.000000         -0.254057    -0.000000\n",
       "17      Noise_5           0.083274  0.000000          0.080250     0.000000"
      ]
     },
     "execution_count": 9,
     "metadata": {},
     "output_type": "execute_result"
    }
   ],
   "source": [
    "df = pd.DataFrame()\n",
    "df['Feature Name'] = X.columns\n",
    "plottingHelper.print_model_coefs(df = df)"
   ]
  },
  {
   "cell_type": "code",
   "execution_count": 10,
   "metadata": {
    "id": "TT98zyGHP5eN",
    "outputId": "dfe9f246-cac7-44a2-da87-910377adfdee"
   },
   "outputs": [],
   "source": [
    "## FITTING OF THE MODELS AND RESULTS\n",
    "\n",
    "# PUT YOUR CODE HERE"
   ]
  },
  {
   "cell_type": "markdown",
   "metadata": {
    "id": "vCaYnamIP5eN"
   },
   "source": [
    "#### Decribe the results"
   ]
  },
  {
   "cell_type": "markdown",
   "metadata": {
    "id": "BJRGjHfBP5eN"
   },
   "source": [
    "- We can see that linear regression assigned non-zero values to all 5 of our noise features, despite none of them having any predictive power. Interestingly, these noise features have coefficients with magnitudes similar to some of the real features in the dataset.\n",
    "- As we hoped, Lasso did a good job of reducing all 5 of our noise features to 0, as well as many of the real features from the dataset. This is indeed a much simpler model than given by linear regression\n",
    "- Ridge Regression makes a similar mistake that unregularized linear regression, assigning coefficient values to our noise features. We also see some features have very small coefficients.\n",
    "- Much like Lasso, Elastic Net makes the coefficients of several features 0. It however does not make as many coefficients 0 as Lasso does.\n",
    "- Lasso allows for the possibility that a coefficient can actually be forced to zero.\n",
    "- OLS is particular useful when the amount of observations is not that big and the inputs reliably can help us to predict the response (LSNR - low signal to noise ratio)."
   ]
  },
  {
   "cell_type": "markdown",
   "metadata": {
    "id": "68pMwN4BP5eO"
   },
   "source": [
    "### Compute the Model Scores"
   ]
  },
  {
   "cell_type": "code",
   "execution_count": 11,
   "metadata": {},
   "outputs": [
    {
     "name": "stdout",
     "output_type": "stream",
     "text": [
      "General helper version 1.0\n"
     ]
    }
   ],
   "source": [
    "generalHelper = GeneralHelper(version = \"1.0\")\n",
    "print(generalHelper)"
   ]
  },
  {
   "cell_type": "code",
   "execution_count": 12,
   "metadata": {},
   "outputs": [
    {
     "name": "stdout",
     "output_type": "stream",
     "text": [
      "Linear Regression\n",
      "r2 score of Linear Regression: 0.669\n",
      "Mean Squared Error of Linear Regression: 23.311\n",
      "#======================================#\n",
      "Lasso\n",
      "r2 score of Lasso: 0.647\n",
      "Mean Squared Error of Lasso: 24.910\n",
      "#======================================#\n",
      "Ridge Regression\n",
      "r2 score of Ridge Regression: 0.669\n",
      "Mean Squared Error of Ridge Regression: 23.319\n",
      "#======================================#\n",
      "Elastic Net\n",
      "r2 score of Elastic Net: 0.651\n",
      "Mean Squared Error of Elastic Net: 24.626\n",
      "#======================================#\n"
     ]
    }
   ],
   "source": [
    "generalHelper.get_model_scores(models = models)"
   ]
  },
  {
   "cell_type": "code",
   "execution_count": 13,
   "metadata": {
    "id": "1b310Fv7P5eO",
    "outputId": "95720c5f-4b94-4203-bc74-a0dfaeedb56f"
   },
   "outputs": [],
   "source": [
    "# PUT YOUR CODE HERE"
   ]
  },
  {
   "cell_type": "markdown",
   "metadata": {
    "id": "komlDuMgP5eO"
   },
   "source": [
    "This might seem counter-intuitive, but it is important to remember the ridge regression model traded some variance for bias, which ultimately lead to an overall smaller error. The Lasso and Elastic Net models traded a significant amount of variance for bias, and we see that our error has increased.\n",
    "Interestingly, Lasso and Elastic Net had a higher MSE than Linear Regression. But does that mean that these models are unequivocally worse? I would argue not, as the Lasso and Elastic Net models also performed feature selection, which gives us better interpretability of the models. Coefficients are interpreted as the change in dependent variable with a one unit increase in predictor value, with all other predictors held constant. In the case of complex models, the assumption of holding all other predictors constant cannot reasonably be met."
   ]
  },
  {
   "cell_type": "markdown",
   "metadata": {
    "id": "uGEyFZxRP5eP"
   },
   "source": [
    "### Alpha parameter:  Apply Lasso with different values of alpha and describe how the parameters scores change\n",
    "\n",
    "\n",
    "- Complete the function and apply it to the following values: [0, .0001, .5, 10]\n",
    "- Describe the results"
   ]
  },
  {
   "cell_type": "code",
   "execution_count": 14,
   "metadata": {
    "id": "3d3m1027P5eP"
   },
   "outputs": [],
   "source": [
    "names = names = X.columns\n",
    "\n",
    "# Create a function called lasso,\n",
    "def lasso(alphas):\n",
    "    '''\n",
    "    Takes in a list of alphas. Outputs a dataframe containing the coefficients of lasso regressions from each alpha.\n",
    "    '''\n",
    "    # Create an empty data frame\n",
    "    df = pd.DataFrame()\n",
    "    \n",
    "    # Create a column of feature names\n",
    "    df['Feature Name'] = names\n",
    "    \n",
    "    # For each alpha value in the list of alpha values,\n",
    "    for alpha in alphas:\n",
    "        # Create a lasso regression with that alpha value,\n",
    "\n",
    "        # ********************************************************\n",
    "        #lasso = # PUT YOUR CODE HERE  ********************************************************\n",
    "        # ********************************************************\n",
    "        lasso = Lasso(alpha=alpha)\n",
    "        \n",
    "        # Fit the lasso regression\n",
    "        lasso.fit(X_scaled, y)\n",
    "        \n",
    "        # Create a column name for that alpha value\n",
    "        column_name = 'Alpha = %f' % alpha\n",
    "\n",
    "        # Create a column of coefficient values\n",
    "        df[column_name] = lasso.coef_\n",
    "        \n",
    "    # Return the dataframe  \n",
    "    return df"
   ]
  },
  {
   "cell_type": "code",
   "execution_count": 15,
   "metadata": {
    "id": "BJPHSvw9P5eQ",
    "outputId": "91c7e70e-429b-431d-bf84-9679d6fd6eff"
   },
   "outputs": [
    {
     "name": "stderr",
     "output_type": "stream",
     "text": [
      "/home/scientist/anaconda3/lib/python3.7/site-packages/ipykernel_launcher.py:24: UserWarning: With alpha=0, this algorithm does not converge well. You are advised to use the LinearRegression estimator\n",
      "/home/scientist/anaconda3/lib/python3.7/site-packages/sklearn/linear_model/_coordinate_descent.py:531: UserWarning: Coordinate descent with no regularization may lead to unexpected results and is discouraged.\n",
      "  positive)\n",
      "/home/scientist/anaconda3/lib/python3.7/site-packages/sklearn/linear_model/_coordinate_descent.py:531: ConvergenceWarning: Objective did not converge. You might want to increase the number of iterations. Duality gap: 5502.144020233638, tolerance: 4.2716295415019765\n",
      "  positive)\n"
     ]
    },
    {
     "data": {
      "text/html": [
       "<div>\n",
       "<style scoped>\n",
       "    .dataframe tbody tr th:only-of-type {\n",
       "        vertical-align: middle;\n",
       "    }\n",
       "\n",
       "    .dataframe tbody tr th {\n",
       "        vertical-align: top;\n",
       "    }\n",
       "\n",
       "    .dataframe thead th {\n",
       "        text-align: right;\n",
       "    }\n",
       "</style>\n",
       "<table border=\"1\" class=\"dataframe\">\n",
       "  <thead>\n",
       "    <tr style=\"text-align: right;\">\n",
       "      <th></th>\n",
       "      <th>Feature Name</th>\n",
       "      <th>Alpha = 0.000000</th>\n",
       "      <th>Alpha = 0.000100</th>\n",
       "      <th>Alpha = 0.500000</th>\n",
       "      <th>Alpha = 10.000000</th>\n",
       "    </tr>\n",
       "  </thead>\n",
       "  <tbody>\n",
       "    <tr>\n",
       "      <th>0</th>\n",
       "      <td>CRIM</td>\n",
       "      <td>-0.899904</td>\n",
       "      <td>-0.899643</td>\n",
       "      <td>-0.115265</td>\n",
       "      <td>-0.0</td>\n",
       "    </tr>\n",
       "    <tr>\n",
       "      <th>1</th>\n",
       "      <td>ZN</td>\n",
       "      <td>1.076752</td>\n",
       "      <td>1.076266</td>\n",
       "      <td>0.000000</td>\n",
       "      <td>0.0</td>\n",
       "    </tr>\n",
       "    <tr>\n",
       "      <th>2</th>\n",
       "      <td>INDUS</td>\n",
       "      <td>0.145241</td>\n",
       "      <td>0.144272</td>\n",
       "      <td>-0.000000</td>\n",
       "      <td>-0.0</td>\n",
       "    </tr>\n",
       "    <tr>\n",
       "      <th>3</th>\n",
       "      <td>CHAS</td>\n",
       "      <td>0.687190</td>\n",
       "      <td>0.687218</td>\n",
       "      <td>0.397079</td>\n",
       "      <td>0.0</td>\n",
       "    </tr>\n",
       "    <tr>\n",
       "      <th>4</th>\n",
       "      <td>NOX</td>\n",
       "      <td>-2.131817</td>\n",
       "      <td>-2.130932</td>\n",
       "      <td>-0.000000</td>\n",
       "      <td>-0.0</td>\n",
       "    </tr>\n",
       "    <tr>\n",
       "      <th>5</th>\n",
       "      <td>RM</td>\n",
       "      <td>2.709083</td>\n",
       "      <td>2.709223</td>\n",
       "      <td>2.974259</td>\n",
       "      <td>0.0</td>\n",
       "    </tr>\n",
       "    <tr>\n",
       "      <th>6</th>\n",
       "      <td>AGE</td>\n",
       "      <td>0.020150</td>\n",
       "      <td>0.019713</td>\n",
       "      <td>-0.000000</td>\n",
       "      <td>-0.0</td>\n",
       "    </tr>\n",
       "    <tr>\n",
       "      <th>7</th>\n",
       "      <td>DIS</td>\n",
       "      <td>-3.116932</td>\n",
       "      <td>-3.116557</td>\n",
       "      <td>-0.170569</td>\n",
       "      <td>0.0</td>\n",
       "    </tr>\n",
       "    <tr>\n",
       "      <th>8</th>\n",
       "      <td>RAD</td>\n",
       "      <td>2.651283</td>\n",
       "      <td>2.649419</td>\n",
       "      <td>-0.000000</td>\n",
       "      <td>-0.0</td>\n",
       "    </tr>\n",
       "    <tr>\n",
       "      <th>9</th>\n",
       "      <td>TAX</td>\n",
       "      <td>-2.019372</td>\n",
       "      <td>-2.017582</td>\n",
       "      <td>-0.000000</td>\n",
       "      <td>-0.0</td>\n",
       "    </tr>\n",
       "    <tr>\n",
       "      <th>10</th>\n",
       "      <td>PTRATIO</td>\n",
       "      <td>-2.051924</td>\n",
       "      <td>-2.051692</td>\n",
       "      <td>-1.598449</td>\n",
       "      <td>-0.0</td>\n",
       "    </tr>\n",
       "    <tr>\n",
       "      <th>11</th>\n",
       "      <td>B</td>\n",
       "      <td>0.862212</td>\n",
       "      <td>0.862118</td>\n",
       "      <td>0.543139</td>\n",
       "      <td>0.0</td>\n",
       "    </tr>\n",
       "    <tr>\n",
       "      <th>12</th>\n",
       "      <td>LSTAT</td>\n",
       "      <td>-3.738416</td>\n",
       "      <td>-3.738216</td>\n",
       "      <td>-3.666144</td>\n",
       "      <td>-0.0</td>\n",
       "    </tr>\n",
       "    <tr>\n",
       "      <th>13</th>\n",
       "      <td>Noise_1</td>\n",
       "      <td>0.186411</td>\n",
       "      <td>0.186318</td>\n",
       "      <td>0.000000</td>\n",
       "      <td>-0.0</td>\n",
       "    </tr>\n",
       "    <tr>\n",
       "      <th>14</th>\n",
       "      <td>Noise_2</td>\n",
       "      <td>-0.066665</td>\n",
       "      <td>-0.066573</td>\n",
       "      <td>-0.000000</td>\n",
       "      <td>-0.0</td>\n",
       "    </tr>\n",
       "    <tr>\n",
       "      <th>15</th>\n",
       "      <td>Noise_3</td>\n",
       "      <td>-0.184672</td>\n",
       "      <td>-0.184482</td>\n",
       "      <td>-0.000000</td>\n",
       "      <td>-0.0</td>\n",
       "    </tr>\n",
       "    <tr>\n",
       "      <th>16</th>\n",
       "      <td>Noise_4</td>\n",
       "      <td>-0.141126</td>\n",
       "      <td>-0.140994</td>\n",
       "      <td>-0.000000</td>\n",
       "      <td>-0.0</td>\n",
       "    </tr>\n",
       "    <tr>\n",
       "      <th>17</th>\n",
       "      <td>Noise_5</td>\n",
       "      <td>0.244056</td>\n",
       "      <td>0.243998</td>\n",
       "      <td>0.000000</td>\n",
       "      <td>0.0</td>\n",
       "    </tr>\n",
       "  </tbody>\n",
       "</table>\n",
       "</div>"
      ],
      "text/plain": [
       "   Feature Name  Alpha = 0.000000  Alpha = 0.000100  Alpha = 0.500000  \\\n",
       "0          CRIM         -0.899904         -0.899643         -0.115265   \n",
       "1            ZN          1.076752          1.076266          0.000000   \n",
       "2         INDUS          0.145241          0.144272         -0.000000   \n",
       "3          CHAS          0.687190          0.687218          0.397079   \n",
       "4           NOX         -2.131817         -2.130932         -0.000000   \n",
       "5            RM          2.709083          2.709223          2.974259   \n",
       "6           AGE          0.020150          0.019713         -0.000000   \n",
       "7           DIS         -3.116932         -3.116557         -0.170569   \n",
       "8           RAD          2.651283          2.649419         -0.000000   \n",
       "9           TAX         -2.019372         -2.017582         -0.000000   \n",
       "10      PTRATIO         -2.051924         -2.051692         -1.598449   \n",
       "11            B          0.862212          0.862118          0.543139   \n",
       "12        LSTAT         -3.738416         -3.738216         -3.666144   \n",
       "13      Noise_1          0.186411          0.186318          0.000000   \n",
       "14      Noise_2         -0.066665         -0.066573         -0.000000   \n",
       "15      Noise_3         -0.184672         -0.184482         -0.000000   \n",
       "16      Noise_4         -0.141126         -0.140994         -0.000000   \n",
       "17      Noise_5          0.244056          0.243998          0.000000   \n",
       "\n",
       "    Alpha = 10.000000  \n",
       "0                -0.0  \n",
       "1                 0.0  \n",
       "2                -0.0  \n",
       "3                 0.0  \n",
       "4                -0.0  \n",
       "5                 0.0  \n",
       "6                -0.0  \n",
       "7                 0.0  \n",
       "8                -0.0  \n",
       "9                -0.0  \n",
       "10               -0.0  \n",
       "11                0.0  \n",
       "12               -0.0  \n",
       "13               -0.0  \n",
       "14               -0.0  \n",
       "15               -0.0  \n",
       "16               -0.0  \n",
       "17                0.0  "
      ]
     },
     "execution_count": 15,
     "metadata": {},
     "output_type": "execute_result"
    }
   ],
   "source": [
    "lasso([0, .0001, .5, 10])"
   ]
  },
  {
   "cell_type": "markdown",
   "metadata": {
    "id": "f9mjD2LBP5eQ"
   },
   "source": [
    "#### Describe the above results"
   ]
  },
  {
   "cell_type": "code",
   "execution_count": null,
   "metadata": {
    "id": "DEEFJ9gAP5eQ"
   },
   "outputs": [],
   "source": []
  },
  {
   "cell_type": "code",
   "execution_count": null,
   "metadata": {
    "id": "gRsNPiFhP5eQ"
   },
   "outputs": [],
   "source": []
  },
  {
   "cell_type": "markdown",
   "metadata": {
    "id": "D3dtgTMjP5eR"
   },
   "source": [
    "### Apply Ridge with different values of alpha and describe how the parameters scores change\n",
    "- Complete the function and apply it to the following values: [0, .0001, .5, 10]\n",
    "- Describe the results"
   ]
  },
  {
   "cell_type": "code",
   "execution_count": 16,
   "metadata": {
    "id": "BycXXJZoP5eR"
   },
   "outputs": [],
   "source": [
    "names = names = X.columns\n",
    "\n",
    "# Create a function called lasso,\n",
    "def ridge(alphas):\n",
    "    '''\n",
    "    Takes in a list of alphas. Outputs a dataframe containing the coefficients of ridge regressions from each alpha.\n",
    "    '''\n",
    "    # Create an empty data frame\n",
    "    df = pd.DataFrame()\n",
    "    \n",
    "    # Create a column of feature names\n",
    "    df['Feature Name'] = names\n",
    "    \n",
    "    # For each alpha value in the list of alpha values,\n",
    "    for alpha in alphas:\n",
    "        # Create a Ridge regression with that alpha value,\n",
    "        \n",
    "        #********************************************************\n",
    "        #ridge = # PUT YOUR CODE HERE  ********************************************************\n",
    "        #********************************************************\n",
    "        \n",
    "        ridge = Ridge(alpha=alpha)\n",
    "        \n",
    "        # Fit the lasso regression\n",
    "        ridge.fit(X_scaled, y)\n",
    "        \n",
    "        # Create a column name for that alpha value\n",
    "        column_name = 'Alpha = %f' % alpha\n",
    "\n",
    "        # Create a column of coefficient values\n",
    "        df[column_name] = ridge.coef_\n",
    "        \n",
    "    # Return the dataframe  \n",
    "    return df"
   ]
  },
  {
   "cell_type": "code",
   "execution_count": 17,
   "metadata": {
    "id": "3XXSdX92P5eR",
    "outputId": "83a16f20-b338-4bba-c4ec-c4915ddd4117"
   },
   "outputs": [
    {
     "data": {
      "text/html": [
       "<div>\n",
       "<style scoped>\n",
       "    .dataframe tbody tr th:only-of-type {\n",
       "        vertical-align: middle;\n",
       "    }\n",
       "\n",
       "    .dataframe tbody tr th {\n",
       "        vertical-align: top;\n",
       "    }\n",
       "\n",
       "    .dataframe thead th {\n",
       "        text-align: right;\n",
       "    }\n",
       "</style>\n",
       "<table border=\"1\" class=\"dataframe\">\n",
       "  <thead>\n",
       "    <tr style=\"text-align: right;\">\n",
       "      <th></th>\n",
       "      <th>Feature Name</th>\n",
       "      <th>Alpha = 0.000000</th>\n",
       "      <th>Alpha = 0.000010</th>\n",
       "      <th>Alpha = 0.500000</th>\n",
       "      <th>Alpha = 10.000000</th>\n",
       "    </tr>\n",
       "  </thead>\n",
       "  <tbody>\n",
       "    <tr>\n",
       "      <th>0</th>\n",
       "      <td>CRIM</td>\n",
       "      <td>-0.899904</td>\n",
       "      <td>-0.899904</td>\n",
       "      <td>-0.895837</td>\n",
       "      <td>-0.833049</td>\n",
       "    </tr>\n",
       "    <tr>\n",
       "      <th>1</th>\n",
       "      <td>ZN</td>\n",
       "      <td>1.076752</td>\n",
       "      <td>1.076752</td>\n",
       "      <td>1.069149</td>\n",
       "      <td>0.950862</td>\n",
       "    </tr>\n",
       "    <tr>\n",
       "      <th>2</th>\n",
       "      <td>INDUS</td>\n",
       "      <td>0.145241</td>\n",
       "      <td>0.145241</td>\n",
       "      <td>0.133116</td>\n",
       "      <td>-0.039531</td>\n",
       "    </tr>\n",
       "    <tr>\n",
       "      <th>3</th>\n",
       "      <td>CHAS</td>\n",
       "      <td>0.687190</td>\n",
       "      <td>0.687190</td>\n",
       "      <td>0.688899</td>\n",
       "      <td>0.712934</td>\n",
       "    </tr>\n",
       "    <tr>\n",
       "      <th>4</th>\n",
       "      <td>NOX</td>\n",
       "      <td>-2.131817</td>\n",
       "      <td>-2.131817</td>\n",
       "      <td>-2.117377</td>\n",
       "      <td>-1.878736</td>\n",
       "    </tr>\n",
       "    <tr>\n",
       "      <th>5</th>\n",
       "      <td>RM</td>\n",
       "      <td>2.709083</td>\n",
       "      <td>2.709083</td>\n",
       "      <td>2.713123</td>\n",
       "      <td>2.772341</td>\n",
       "    </tr>\n",
       "    <tr>\n",
       "      <th>6</th>\n",
       "      <td>AGE</td>\n",
       "      <td>0.020150</td>\n",
       "      <td>0.020150</td>\n",
       "      <td>0.016932</td>\n",
       "      <td>-0.032166</td>\n",
       "    </tr>\n",
       "    <tr>\n",
       "      <th>7</th>\n",
       "      <td>DIS</td>\n",
       "      <td>-3.116932</td>\n",
       "      <td>-3.116932</td>\n",
       "      <td>-3.103438</td>\n",
       "      <td>-2.867809</td>\n",
       "    </tr>\n",
       "    <tr>\n",
       "      <th>8</th>\n",
       "      <td>RAD</td>\n",
       "      <td>2.651283</td>\n",
       "      <td>2.651283</td>\n",
       "      <td>2.615498</td>\n",
       "      <td>2.089052</td>\n",
       "    </tr>\n",
       "    <tr>\n",
       "      <th>9</th>\n",
       "      <td>TAX</td>\n",
       "      <td>-2.019372</td>\n",
       "      <td>-2.019371</td>\n",
       "      <td>-1.986062</td>\n",
       "      <td>-1.515345</td>\n",
       "    </tr>\n",
       "    <tr>\n",
       "      <th>10</th>\n",
       "      <td>PTRATIO</td>\n",
       "      <td>-2.051924</td>\n",
       "      <td>-2.051923</td>\n",
       "      <td>-2.047769</td>\n",
       "      <td>-1.978971</td>\n",
       "    </tr>\n",
       "    <tr>\n",
       "      <th>11</th>\n",
       "      <td>B</td>\n",
       "      <td>0.862212</td>\n",
       "      <td>0.862212</td>\n",
       "      <td>0.861914</td>\n",
       "      <td>0.856151</td>\n",
       "    </tr>\n",
       "    <tr>\n",
       "      <th>12</th>\n",
       "      <td>LSTAT</td>\n",
       "      <td>-3.738416</td>\n",
       "      <td>-3.738415</td>\n",
       "      <td>-3.732023</td>\n",
       "      <td>-3.620702</td>\n",
       "    </tr>\n",
       "    <tr>\n",
       "      <th>13</th>\n",
       "      <td>Noise_1</td>\n",
       "      <td>0.186411</td>\n",
       "      <td>0.186411</td>\n",
       "      <td>0.186217</td>\n",
       "      <td>0.180421</td>\n",
       "    </tr>\n",
       "    <tr>\n",
       "      <th>14</th>\n",
       "      <td>Noise_2</td>\n",
       "      <td>-0.066665</td>\n",
       "      <td>-0.066665</td>\n",
       "      <td>-0.066615</td>\n",
       "      <td>-0.066220</td>\n",
       "    </tr>\n",
       "    <tr>\n",
       "      <th>15</th>\n",
       "      <td>Noise_3</td>\n",
       "      <td>-0.184672</td>\n",
       "      <td>-0.184672</td>\n",
       "      <td>-0.183163</td>\n",
       "      <td>-0.159590</td>\n",
       "    </tr>\n",
       "    <tr>\n",
       "      <th>16</th>\n",
       "      <td>Noise_4</td>\n",
       "      <td>-0.141126</td>\n",
       "      <td>-0.141126</td>\n",
       "      <td>-0.140781</td>\n",
       "      <td>-0.135222</td>\n",
       "    </tr>\n",
       "    <tr>\n",
       "      <th>17</th>\n",
       "      <td>Noise_5</td>\n",
       "      <td>0.244056</td>\n",
       "      <td>0.244056</td>\n",
       "      <td>0.244341</td>\n",
       "      <td>0.246570</td>\n",
       "    </tr>\n",
       "  </tbody>\n",
       "</table>\n",
       "</div>"
      ],
      "text/plain": [
       "   Feature Name  Alpha = 0.000000  Alpha = 0.000010  Alpha = 0.500000  \\\n",
       "0          CRIM         -0.899904         -0.899904         -0.895837   \n",
       "1            ZN          1.076752          1.076752          1.069149   \n",
       "2         INDUS          0.145241          0.145241          0.133116   \n",
       "3          CHAS          0.687190          0.687190          0.688899   \n",
       "4           NOX         -2.131817         -2.131817         -2.117377   \n",
       "5            RM          2.709083          2.709083          2.713123   \n",
       "6           AGE          0.020150          0.020150          0.016932   \n",
       "7           DIS         -3.116932         -3.116932         -3.103438   \n",
       "8           RAD          2.651283          2.651283          2.615498   \n",
       "9           TAX         -2.019372         -2.019371         -1.986062   \n",
       "10      PTRATIO         -2.051924         -2.051923         -2.047769   \n",
       "11            B          0.862212          0.862212          0.861914   \n",
       "12        LSTAT         -3.738416         -3.738415         -3.732023   \n",
       "13      Noise_1          0.186411          0.186411          0.186217   \n",
       "14      Noise_2         -0.066665         -0.066665         -0.066615   \n",
       "15      Noise_3         -0.184672         -0.184672         -0.183163   \n",
       "16      Noise_4         -0.141126         -0.141126         -0.140781   \n",
       "17      Noise_5          0.244056          0.244056          0.244341   \n",
       "\n",
       "    Alpha = 10.000000  \n",
       "0           -0.833049  \n",
       "1            0.950862  \n",
       "2           -0.039531  \n",
       "3            0.712934  \n",
       "4           -1.878736  \n",
       "5            2.772341  \n",
       "6           -0.032166  \n",
       "7           -2.867809  \n",
       "8            2.089052  \n",
       "9           -1.515345  \n",
       "10          -1.978971  \n",
       "11           0.856151  \n",
       "12          -3.620702  \n",
       "13           0.180421  \n",
       "14          -0.066220  \n",
       "15          -0.159590  \n",
       "16          -0.135222  \n",
       "17           0.246570  "
      ]
     },
     "execution_count": 17,
     "metadata": {},
     "output_type": "execute_result"
    }
   ],
   "source": [
    "ridge([0, .00001, .5, 10])"
   ]
  },
  {
   "cell_type": "markdown",
   "metadata": {
    "id": "htviX3D9P5eS"
   },
   "source": [
    "In practice, we will not manually look for the best alpha coefficient. Both in Lasso and ridge regression, the alpha is a hyperparameter. Therefore, we will find the best one via crossvalidation. Fortunately, sklearn has a function that performs CV to find the optimal alpha automatically. "
   ]
  },
  {
   "cell_type": "code",
   "execution_count": 18,
   "metadata": {},
   "outputs": [],
   "source": [
    "%run Session_3_Regularization_and_Poly_regression_EXERCISE_Helper.ipynb\n",
    "%run Session_3_Regularization_and_Poly_regression_EXERCISE_Plot.ipynb"
   ]
  },
  {
   "cell_type": "code",
   "execution_count": 19,
   "metadata": {
    "id": "uRFc3rLAP5eT",
    "outputId": "06a2e667-b1a2-4fce-aef6-b6d190df74d2"
   },
   "outputs": [
    {
     "data": {
      "text/plain": [
       "0.003571182456192666"
      ]
     },
     "execution_count": 19,
     "metadata": {},
     "output_type": "execute_result"
    }
   ],
   "source": [
    "reg = LassoCV(max_iter = 5000, cv = 20, normalize=True).fit(X_train, y_train)\n",
    "reg.alpha_"
   ]
  },
  {
   "cell_type": "code",
   "execution_count": null,
   "metadata": {
    "id": "B9iMJpLBP5eT"
   },
   "outputs": [],
   "source": []
  }
 ],
 "metadata": {
  "colab": {
   "name": "Session_3_Regularization_and_Poly_regression_EXERCISE.ipynb",
   "provenance": []
  },
  "kernelspec": {
   "display_name": "Python 3",
   "language": "python",
   "name": "python3"
  },
  "language_info": {
   "codemirror_mode": {
    "name": "ipython",
    "version": 3
   },
   "file_extension": ".py",
   "mimetype": "text/x-python",
   "name": "python",
   "nbconvert_exporter": "python",
   "pygments_lexer": "ipython3",
   "version": "3.7.3"
  }
 },
 "nbformat": 4,
 "nbformat_minor": 1
}
