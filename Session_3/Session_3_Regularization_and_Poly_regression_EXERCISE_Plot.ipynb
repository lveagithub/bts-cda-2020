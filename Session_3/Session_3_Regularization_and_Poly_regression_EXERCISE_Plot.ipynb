{
 "cells": [
  {
   "cell_type": "code",
   "execution_count": null,
   "metadata": {},
   "outputs": [],
   "source": [
    "import matplotlib\n",
    "matplotlib.rcParams.update({'font.size': 12})\n",
    "import matplotlib.pyplot as plt \n",
    "plt.rc(\"font\", size=18)\n",
    "import seaborn as sns\n",
    "sns.set(style=\"white\")\n",
    "sns.set(style=\"whitegrid\", color_codes=True)"
   ]
  },
  {
   "cell_type": "markdown",
   "metadata": {},
   "source": [
    "<h1 style=\"background-color:powderblue;\">Plotting Classes</h1>"
   ]
  },
  {
   "cell_type": "code",
   "execution_count": null,
   "metadata": {},
   "outputs": [],
   "source": [
    "class PlottingHelper():\n",
    "    \"\"\"Cleaning Helper\"\"\"\n",
    "    def __init__(self, version):\n",
    "        self.version = version\n",
    "    \n",
    "    def __str__(self):\n",
    "        return f\"Plotting helper version {self.version}\"\n",
    "    \n",
    "    def print_model_coefs(self, df):\n",
    "        for model in models:\n",
    "            model[0].fit(X_train, y_train)\n",
    "            pd.Series(model[0].coef_, \n",
    "                      index=X.columns).plot(kind='barh')\n",
    "            plt.title(model[1])\n",
    "            plt.xlabel('Coefficient Value')\n",
    "            plt.ylabel('Feature Name')\n",
    "            plt.show()\n",
    "            # Create a column name for that reflects the name of the model\n",
    "            column_name = model[1]\n",
    "\n",
    "            # Create a column of coefficient values\n",
    "            df[column_name] = model[0].coef_\n",
    "\n",
    "        return df"
   ]
  }
 ],
 "metadata": {
  "kernelspec": {
   "display_name": "Python [conda env:root] *",
   "language": "python",
   "name": "conda-root-py"
  },
  "language_info": {
   "codemirror_mode": {
    "name": "ipython",
    "version": 3
   },
   "file_extension": ".py",
   "mimetype": "text/x-python",
   "name": "python",
   "nbconvert_exporter": "python",
   "pygments_lexer": "ipython3",
   "version": "3.7.3"
  }
 },
 "nbformat": 4,
 "nbformat_minor": 2
}
