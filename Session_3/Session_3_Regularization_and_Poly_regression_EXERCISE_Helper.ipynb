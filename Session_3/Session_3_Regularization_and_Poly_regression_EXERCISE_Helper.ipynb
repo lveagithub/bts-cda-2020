{
 "cells": [
  {
   "cell_type": "code",
   "execution_count": null,
   "metadata": {},
   "outputs": [],
   "source": [
    "import numpy as np \n",
    "import pandas as pd\n",
    "from sklearn.datasets import load_boston\n",
    "from sklearn.model_selection import train_test_split\n",
    "from sklearn.linear_model import LinearRegression\n",
    "from sklearn.linear_model import Ridge\n",
    "from sklearn import metrics\n",
    "from sklearn.metrics import mean_squared_error, r2_score\n",
    "from sklearn.linear_model import LinearRegression, Lasso, Ridge, ElasticNet\n",
    "from sklearn.preprocessing import StandardScaler\n",
    "from sklearn.linear_model import LassoCV"
   ]
  },
  {
   "cell_type": "markdown",
   "metadata": {},
   "source": [
    "<h1 style=\"background-color:powderblue;\">General helper Classes</h1>"
   ]
  },
  {
   "cell_type": "code",
   "execution_count": null,
   "metadata": {},
   "outputs": [],
   "source": [
    "class GeneralHelper():\n",
    "    \"\"\"General Helper\"\"\"\n",
    "    def __init__(self, version):\n",
    "        pd.options.mode.chained_assignment = None  # default='warn'\n",
    "        self.version = version\n",
    "    \n",
    "    def __str__(self):\n",
    "        return f\"General helper version {self.version}\"\n",
    "    \n",
    "    def get_model_scores(self, models):\n",
    "        for model in models:\n",
    "            r2 = r2_score(y_test, model[0].predict(X_test))\n",
    "            mse = mean_squared_error(y_test, model[0].predict(X_test))\n",
    "            print(model[1])\n",
    "            print(f\"r2 score of {model[1]}: {r2:.3f}\")\n",
    "            print(f\"Mean Squared Error of {model[1]}: {mse:.3f}\")\n",
    "            print(\"#======================================#\")\n",
    "\n",
    "    def getPred(self, x,W):\n",
    "        return(np.matmul(x,W))\n",
    "\n",
    "    def Loss(self, y,ypred):\n",
    "        l=(y-ypred)**2\n",
    "        return(l.sum())\n",
    "\n",
    "    def MSE(self, X,Y,W):\n",
    "        return((1/X.shape[0])*Loss(Y,self.getPred(X,W)))\n",
    "    \n",
    "    def GradDesc(self, X,Y,learnRate=0.01,epochs=2000,reg=0):\n",
    "        global cacheLoss\n",
    "        cacheLoss=[None]*epochs\n",
    "\n",
    "        Weights=np.random.rand(X.shape[1])\n",
    "\n",
    "        Weights=np.array(Weights)\n",
    "        Weights=Weights.reshape(-1,1)\n",
    "        m=X.shape[0]\n",
    "\n",
    "        for i in range(epochs):\n",
    "\n",
    "            predictions=self.getPred(X,Weights)\n",
    "            cacheLoss[i]=self.Loss(Y,predictions)\n",
    "\n",
    "            Weights[0]=Weights[0]-(1/m)*learnRate*(np.matmul(X[:,0].transpose(),predictions-Y))\n",
    "\n",
    "            for j in range(1,len(Weights)):\n",
    "\n",
    "                Weights[j]=Weights[j]-(1/m)*learnRate*(np.matmul(X[:,j].transpose(),predictions-Y)+sum(np.dot(Weights[j],reg)))\n",
    "        return(Weights)\n",
    "    \n",
    "    def getRidgeLambda(self, x,y):\n",
    "    \n",
    "        bestMSE=10e100\n",
    "\n",
    "        lamList=[l*0.05 for l in range(0,300)]\n",
    "\n",
    "        global ridgeLambda\n",
    "\n",
    "        for l in lamList:\n",
    "            Wr = self.GradDesc(x,y,reg=l)\n",
    "            if MSE(X_Validate,Y_Validate,Wr)< bestMSE:\n",
    "                bestMSE=MSE(X_Validate,Y_Validate,Wr)\n",
    "                ridgeLambda=l\n",
    "\n",
    "\n",
    "        return(ridgeLambda)"
   ]
  }
 ],
 "metadata": {
  "kernelspec": {
   "display_name": "Python [conda env:root] *",
   "language": "python",
   "name": "conda-root-py"
  },
  "language_info": {
   "codemirror_mode": {
    "name": "ipython",
    "version": 3
   },
   "file_extension": ".py",
   "mimetype": "text/x-python",
   "name": "python",
   "nbconvert_exporter": "python",
   "pygments_lexer": "ipython3",
   "version": "3.7.3"
  }
 },
 "nbformat": 4,
 "nbformat_minor": 2
}
