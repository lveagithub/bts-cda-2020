{
 "cells": [
  {
   "cell_type": "code",
   "execution_count": null,
   "metadata": {},
   "outputs": [],
   "source": [
    "import pandas as pd\n",
    "import numpy as np\n",
    "from sklearn import preprocessing\n",
    "from sklearn.linear_model import LogisticRegression\n",
    "from sklearn.model_selection import train_test_split\n",
    "from sklearn import metrics\n",
    "from imblearn.over_sampling import SMOTE"
   ]
  },
  {
   "cell_type": "markdown",
   "metadata": {},
   "source": [
    "<h1 style=\"background-color:powderblue;\">General helper Classes</h1>"
   ]
  },
  {
   "cell_type": "code",
   "execution_count": null,
   "metadata": {},
   "outputs": [],
   "source": [
    "class CleaningHelper():\n",
    "    \"\"\"Cleaning Helper\"\"\"\n",
    "    def __init__(self, version):\n",
    "        pd.options.mode.chained_assignment = None  # default='warn'\n",
    "        self.version = version\n",
    "    \n",
    "    def __str__(self):\n",
    "        return f\"Cleaning helper version {self.version}\"\n",
    "    \n",
    "    def get_nulls_data(self, df_):\n",
    "        #We want to know the quality of data. So, let's start by detecting not null percentage related to every column. \n",
    "\n",
    "        df_tot_nulls = df_.isnull().sum().sort_values(ascending=False)\n",
    "        df_tot_nulls_perc = 100 - round(df_tot_nulls/len(df_)*100,2)\n",
    "        df_tot_perc_nulls = pd.concat([df_tot_nulls,df_tot_nulls_perc],axis=1)\n",
    "        df_tot_perc_nulls = df_tot_perc_nulls.rename(columns={0: \"Total\", 1: \"PercNotNull\"})\n",
    "        return df_tot_perc_nulls\n",
    "    \n",
    "    def coll_cat_reduction(self, df_):\n",
    "        \"\"\"Feature engineering: category reduction\"\"\"\n",
    "        df_res = df_.copy()\n",
    "        df_res.education[df_res.education=='basic.4y']='Basic'\n",
    "        df_res.education[df_res.education=='basic.6y']='Basic'\n",
    "        df_res.education[df_res.education=='basic.9y']='Basic'\n",
    "        df_res.education[df_res.education=='unknown'] ='Unknown'\n",
    "        df_res.education[df_res.education=='university.degree'] ='University_Degree'\n",
    "        df_res.education[df_res.education=='high.school'] ='High_School'\n",
    "        df_res.education[df_res.education=='professional.course'] ='Professional_Course'\n",
    "        df_res.education[df_res.education=='illiterate'] ='Illiterate'\n",
    "        return df_res\n",
    "    \n",
    "    def custom_classification_report(self, y_true_, y_pred_):\n",
    "        report = metrics.classification_report(y_true = y_true_, y_pred = y_pred_, output_dict=True)\n",
    "        df_classification_report = pd.DataFrame(report).transpose()\n",
    "        df_classification_report = df_classification_report.sort_values(by=['f1-score'], ascending=False)\n",
    "        df_classification_report = df_classification_report.reset_index()\n",
    "        df_classification_report = df_classification_report.rename(columns={'index':'metric_'})\n",
    "        return df_classification_report"
   ]
  },
  {
   "cell_type": "code",
   "execution_count": null,
   "metadata": {},
   "outputs": [],
   "source": []
  }
 ],
 "metadata": {
  "kernelspec": {
   "display_name": "Python [conda env:root] *",
   "language": "python",
   "name": "conda-root-py"
  },
  "language_info": {
   "codemirror_mode": {
    "name": "ipython",
    "version": 3
   },
   "file_extension": ".py",
   "mimetype": "text/x-python",
   "name": "python",
   "nbconvert_exporter": "python",
   "pygments_lexer": "ipython3",
   "version": "3.7.3"
  }
 },
 "nbformat": 4,
 "nbformat_minor": 2
}
