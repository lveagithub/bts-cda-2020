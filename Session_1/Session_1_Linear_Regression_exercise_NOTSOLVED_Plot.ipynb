{
 "cells": [
  {
   "cell_type": "code",
   "execution_count": null,
   "metadata": {},
   "outputs": [],
   "source": [
    "import matplotlib.pyplot as plt\n",
    "import seaborn as sns\n",
    "from statsmodels.graphics.gofplots import qqplot"
   ]
  },
  {
   "cell_type": "code",
   "execution_count": null,
   "metadata": {},
   "outputs": [],
   "source": [
    "class DisplotType(Enum):\n",
    "    HIST=\"hist\"\n",
    "    KDE=\"kde\"\n",
    "    ECDF=\"ecdf\""
   ]
  },
  {
   "cell_type": "code",
   "execution_count": null,
   "metadata": {},
   "outputs": [],
   "source": [
    "def custom_displot_one_feature(df_, type_, bins_, title_, ylabel_, height_, aspect_):\n",
    "    sns.set(style=\"whitegrid\")\n",
    "    if not isinstance(type_, DisplotType):\n",
    "        raise TypeError('mode must be an instance of DisplotType Enum')\n",
    "    if type_ == DisplotType.HIST:\n",
    "        # Initialize the matplotlib figure\n",
    "        #f, ax = plt.subplots(figsize=(8, 8))\n",
    "        g = sns.displot(df_, bins=bins_, kind=type_.value, height=height_, aspect=aspect_)\n",
    "        plt.title(title_)\n",
    "        plt.ylabel(ylabel_)\n",
    "        #plt.legend(['Died', 'survived'])\n",
    "        plt.show()\n",
    "    elif type_ == DisplotType.KDE:\n",
    "        # Initialize the matplotlib figure\n",
    "        #f, ax = plt.subplots(figsize=(8, 8))\n",
    "        g = sns.displot(df_, kind=type_.value, height=height_, aspect=aspect_)\n",
    "        plt.title(title_)\n",
    "        plt.ylabel(ylabel_)\n",
    "        #plt.legend(['Died', 'survived'])\n",
    "        plt.show()\n",
    "    elif type_ == DisplotType.ECDF:\n",
    "        # Initialize the matplotlib figure\n",
    "        #f, ax = plt.subplots(figsize=(8, 8))\n",
    "        g = sns.displot(df_, kind=type_.value, height=height_, aspect=aspect_)\n",
    "        plt.title(title_)\n",
    "        plt.ylabel(ylabel_)\n",
    "        #plt.legend(['Died', 'survived'])\n",
    "        plt.show()\n",
    "    else:\n",
    "        # Initialize the matplotlib figure\n",
    "        #f, ax = plt.subplots(figsize=(8, 8))\n",
    "        g = sns.displot(df_, bins=bins_, kind=type_.value, height=height_, aspect=aspect_)\n",
    "        plt.title(title_)\n",
    "        plt.ylabel(ylabel_)\n",
    "        #plt.legend(['Died', 'survived'])\n",
    "        plt.show()"
   ]
  },
  {
   "cell_type": "code",
   "execution_count": null,
   "metadata": {},
   "outputs": [],
   "source": [
    "def custom_pairplot(df_, title_, ylabel_, height_, aspect_):\n",
    "    sns.set(style=\"whitegrid\")\n",
    "    # Initialize the matplotlib figure\n",
    "    #f, ax = plt.subplots(figsize=(8, 8))\n",
    "    g = sns.pairplot(df_, height=height_, aspect=aspect_)\n",
    "    plt.title(title_)\n",
    "    plt.ylabel(ylabel_)\n",
    "    #plt.legend(['Died', 'survived'])\n",
    "    plt.show()"
   ]
  },
  {
   "cell_type": "code",
   "execution_count": null,
   "metadata": {},
   "outputs": [],
   "source": [
    "def custom_heatmap(df_, title_, ylabel_, height_, aspect_):\n",
    "    sns.set(style=\"whitegrid\")\n",
    "    # Initialize the matplotlib figure\n",
    "    f, ax = plt.subplots(figsize=(8, 8))\n",
    "    #g = sns.pairplot(df_, height=height_, aspect=aspect_)\n",
    "    g = sns.heatmap(df_.corr(), annot = True, fmt='.2g',cmap= 'YlGnBu')\n",
    "    plt.title(title_)\n",
    "    plt.ylabel(ylabel_)\n",
    "    #plt.legend(['Died', 'survived'])\n",
    "    plt.show()"
   ]
  }
 ],
 "metadata": {
  "kernelspec": {
   "display_name": "Python [conda env:root] *",
   "language": "python",
   "name": "conda-root-py"
  },
  "language_info": {
   "codemirror_mode": {
    "name": "ipython",
    "version": 3
   },
   "file_extension": ".py",
   "mimetype": "text/x-python",
   "name": "python",
   "nbconvert_exporter": "python",
   "pygments_lexer": "ipython3",
   "version": "3.7.3"
  }
 },
 "nbformat": 4,
 "nbformat_minor": 2
}
