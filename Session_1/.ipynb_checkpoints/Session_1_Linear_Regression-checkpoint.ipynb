{
 "cells": [
  {
   "cell_type": "markdown",
   "metadata": {
    "id": "z8k02uPe07C3"
   },
   "source": [
    "![BTS](https://github.com/vfp1/bts-dsf-2020/raw/main/Logo-BTS.jpg)\n",
    "\n",
    "# Session 1: Linear Regression\n",
    "\n",
    "### Victor F. Pajuelo Madrigal <victor.pajuelo@bts.tech> - Classical Data Analysis (2020-12-07)\n",
    "\n",
    "Open this notebook in Google Colaboratory: [![Open in Colab](https://colab.research.google.com/assets/colab-badge.svg)](https://colab.research.google.com/github/vfp1/bts-cda-2020/blob/main/Session_1/Session_1_Linear_Regression.ipynb)\n",
    "\n",
    "**Resources:**"
   ]
  },
  {
   "cell_type": "markdown",
   "metadata": {
    "id": "sTWoMydE1J0K"
   },
   "source": [
    "# Our first regression simple linear regression with diabetes\n",
    "\n",
    "We will be using Linear Regression from Sklearn, which uses OLS type of fitting mechanism, see [here](https://scikit-learn.org/stable/modules/generated/sklearn.linear_model.LinearRegression.html) for more info."
   ]
  },
  {
   "cell_type": "code",
   "execution_count": 1,
   "metadata": {
    "id": "yVh5YPK905pn"
   },
   "outputs": [],
   "source": [
    "import matplotlib.pyplot as plt\n",
    "import seaborn as sns\n",
    "import numpy as np\n",
    "import pandas as pd\n",
    "from sklearn import datasets, linear_model\n",
    "from sklearn.metrics import mean_squared_error, r2_score\n",
    "import seaborn as sns"
   ]
  },
  {
   "cell_type": "code",
   "execution_count": 2,
   "metadata": {
    "colab": {
     "base_uri": "https://localhost:8080/",
     "height": 204
    },
    "id": "BZfJbM5d1RBA",
    "outputId": "6a6083fa-9207-4d4b-e61b-032548a588fa"
   },
   "outputs": [
    {
     "data": {
      "text/html": [
       "<div>\n",
       "<style scoped>\n",
       "    .dataframe tbody tr th:only-of-type {\n",
       "        vertical-align: middle;\n",
       "    }\n",
       "\n",
       "    .dataframe tbody tr th {\n",
       "        vertical-align: top;\n",
       "    }\n",
       "\n",
       "    .dataframe thead th {\n",
       "        text-align: right;\n",
       "    }\n",
       "</style>\n",
       "<table border=\"1\" class=\"dataframe\">\n",
       "  <thead>\n",
       "    <tr style=\"text-align: right;\">\n",
       "      <th></th>\n",
       "      <th>CRIM</th>\n",
       "      <th>ZN</th>\n",
       "      <th>INDUS</th>\n",
       "      <th>CHAS</th>\n",
       "      <th>NOX</th>\n",
       "      <th>RM</th>\n",
       "      <th>AGE</th>\n",
       "      <th>DIS</th>\n",
       "      <th>RAD</th>\n",
       "      <th>TAX</th>\n",
       "      <th>PTRATIO</th>\n",
       "      <th>B</th>\n",
       "      <th>LSTAT</th>\n",
       "      <th>MEDV</th>\n",
       "    </tr>\n",
       "  </thead>\n",
       "  <tbody>\n",
       "    <tr>\n",
       "      <th>0</th>\n",
       "      <td>0.00632</td>\n",
       "      <td>18.0</td>\n",
       "      <td>2.31</td>\n",
       "      <td>0.0</td>\n",
       "      <td>0.538</td>\n",
       "      <td>6.575</td>\n",
       "      <td>65.2</td>\n",
       "      <td>4.0900</td>\n",
       "      <td>1.0</td>\n",
       "      <td>296.0</td>\n",
       "      <td>15.3</td>\n",
       "      <td>396.90</td>\n",
       "      <td>4.98</td>\n",
       "      <td>24.0</td>\n",
       "    </tr>\n",
       "    <tr>\n",
       "      <th>1</th>\n",
       "      <td>0.02731</td>\n",
       "      <td>0.0</td>\n",
       "      <td>7.07</td>\n",
       "      <td>0.0</td>\n",
       "      <td>0.469</td>\n",
       "      <td>6.421</td>\n",
       "      <td>78.9</td>\n",
       "      <td>4.9671</td>\n",
       "      <td>2.0</td>\n",
       "      <td>242.0</td>\n",
       "      <td>17.8</td>\n",
       "      <td>396.90</td>\n",
       "      <td>9.14</td>\n",
       "      <td>21.6</td>\n",
       "    </tr>\n",
       "    <tr>\n",
       "      <th>2</th>\n",
       "      <td>0.02729</td>\n",
       "      <td>0.0</td>\n",
       "      <td>7.07</td>\n",
       "      <td>0.0</td>\n",
       "      <td>0.469</td>\n",
       "      <td>7.185</td>\n",
       "      <td>61.1</td>\n",
       "      <td>4.9671</td>\n",
       "      <td>2.0</td>\n",
       "      <td>242.0</td>\n",
       "      <td>17.8</td>\n",
       "      <td>392.83</td>\n",
       "      <td>4.03</td>\n",
       "      <td>34.7</td>\n",
       "    </tr>\n",
       "    <tr>\n",
       "      <th>3</th>\n",
       "      <td>0.03237</td>\n",
       "      <td>0.0</td>\n",
       "      <td>2.18</td>\n",
       "      <td>0.0</td>\n",
       "      <td>0.458</td>\n",
       "      <td>6.998</td>\n",
       "      <td>45.8</td>\n",
       "      <td>6.0622</td>\n",
       "      <td>3.0</td>\n",
       "      <td>222.0</td>\n",
       "      <td>18.7</td>\n",
       "      <td>394.63</td>\n",
       "      <td>2.94</td>\n",
       "      <td>33.4</td>\n",
       "    </tr>\n",
       "    <tr>\n",
       "      <th>4</th>\n",
       "      <td>0.06905</td>\n",
       "      <td>0.0</td>\n",
       "      <td>2.18</td>\n",
       "      <td>0.0</td>\n",
       "      <td>0.458</td>\n",
       "      <td>7.147</td>\n",
       "      <td>54.2</td>\n",
       "      <td>6.0622</td>\n",
       "      <td>3.0</td>\n",
       "      <td>222.0</td>\n",
       "      <td>18.7</td>\n",
       "      <td>396.90</td>\n",
       "      <td>5.33</td>\n",
       "      <td>36.2</td>\n",
       "    </tr>\n",
       "  </tbody>\n",
       "</table>\n",
       "</div>"
      ],
      "text/plain": [
       "      CRIM    ZN  INDUS  CHAS    NOX     RM   AGE     DIS  RAD    TAX  \\\n",
       "0  0.00632  18.0   2.31   0.0  0.538  6.575  65.2  4.0900  1.0  296.0   \n",
       "1  0.02731   0.0   7.07   0.0  0.469  6.421  78.9  4.9671  2.0  242.0   \n",
       "2  0.02729   0.0   7.07   0.0  0.469  7.185  61.1  4.9671  2.0  242.0   \n",
       "3  0.03237   0.0   2.18   0.0  0.458  6.998  45.8  6.0622  3.0  222.0   \n",
       "4  0.06905   0.0   2.18   0.0  0.458  7.147  54.2  6.0622  3.0  222.0   \n",
       "\n",
       "   PTRATIO       B  LSTAT  MEDV  \n",
       "0     15.3  396.90   4.98  24.0  \n",
       "1     17.8  396.90   9.14  21.6  \n",
       "2     17.8  392.83   4.03  34.7  \n",
       "3     18.7  394.63   2.94  33.4  \n",
       "4     18.7  396.90   5.33  36.2  "
      ]
     },
     "execution_count": 2,
     "metadata": {},
     "output_type": "execute_result"
    }
   ],
   "source": [
    "# Load the diabetes dataset\n",
    "boston_ds = datasets.load_boston()\n",
    "boston = pd.DataFrame(boston_ds.data, columns=boston_ds.feature_names)\n",
    "boston['MEDV'] = boston_ds.target\n",
    "boston.head()"
   ]
  },
  {
   "cell_type": "code",
   "execution_count": 3,
   "metadata": {
    "id": "yswf7USf1TKX"
   },
   "outputs": [],
   "source": [
    "# We just take one variable for a linear simple regression\n",
    "X = boston[['LSTAT']]\n",
    "Y = boston['MEDV']"
   ]
  },
  {
   "cell_type": "code",
   "execution_count": 4,
   "metadata": {
    "colab": {
     "base_uri": "https://localhost:8080/"
    },
    "id": "DL6Q-w_T1Wus",
    "outputId": "6390b9d4-60e5-41fd-d9fc-59908bf22cc5"
   },
   "outputs": [
    {
     "name": "stdout",
     "output_type": "stream",
     "text": [
      "(404, 1)\n",
      "(102, 1)\n",
      "(404,)\n",
      "(102,)\n"
     ]
    }
   ],
   "source": [
    "from sklearn.model_selection import train_test_split\n",
    "\n",
    "X_train, X_test, Y_train, Y_test = train_test_split(X, Y, test_size = 0.2, random_state=5)\n",
    "print(X_train.shape)\n",
    "print(X_test.shape)\n",
    "print(Y_train.shape)\n",
    "print(Y_test.shape)"
   ]
  },
  {
   "cell_type": "code",
   "execution_count": 5,
   "metadata": {
    "id": "ETkaJ4VC1aGv"
   },
   "outputs": [],
   "source": [
    "from sklearn.linear_model import LinearRegression\n",
    "from sklearn.metrics import mean_squared_error\n",
    "\n",
    "lr = LinearRegression()\n",
    "lm = lr.fit(X_train, Y_train)\n"
   ]
  },
  {
   "cell_type": "code",
   "execution_count": 6,
   "metadata": {
    "colab": {
     "base_uri": "https://localhost:8080/"
    },
    "id": "peGv0_1R1dAW",
    "outputId": "7a6781ec-2d16-4a8a-b550-bc17abd39092"
   },
   "outputs": [
    {
     "data": {
      "text/plain": [
       "array([-0.97981166])"
      ]
     },
     "execution_count": 6,
     "metadata": {},
     "output_type": "execute_result"
    }
   ],
   "source": [
    "lm.coef_"
   ]
  },
  {
   "cell_type": "code",
   "execution_count": 7,
   "metadata": {
    "colab": {
     "base_uri": "https://localhost:8080/"
    },
    "id": "DJPxURwK1e99",
    "outputId": "62023abb-69df-4746-d656-42a9dd6a09dd"
   },
   "outputs": [
    {
     "data": {
      "text/plain": [
       "34.87291567862843"
      ]
     },
     "execution_count": 7,
     "metadata": {},
     "output_type": "execute_result"
    }
   ],
   "source": [
    "lm.intercept_"
   ]
  },
  {
   "cell_type": "markdown",
   "metadata": {
    "id": "jkB7i8Et2MnT"
   },
   "source": [
    "## Your turn: exercise in class\n",
    "\n",
    "Plot the regression together with the features."
   ]
  },
  {
   "cell_type": "code",
   "execution_count": 8,
   "metadata": {
    "id": "VVonXrit2LQK"
   },
   "outputs": [
    {
     "data": {
      "image/png": "[encoded data removed]",
      "text/plain": [
       "<Figure size 432x288 with 1 Axes>"
      ]
     },
     "metadata": {
      "needs_background": "light"
     },
     "output_type": "display_data"
    }
   ],
   "source": [
    "# Plot outputs\n",
    "plt.scatter(X, Y,  color='black')\n",
    "#plt.plot(X, Y, color='blue', linewidth=3)\n",
    "\n",
    "#plt.xticks(())\n",
    "#plt.yticks(())\n",
    "\n",
    "plt.locator_params(axis=\"x\", nbins=30)\n",
    "plt.locator_params(axis=\"y\", nbins=10)\n",
    "\n",
    "plt.show()"
   ]
  },
  {
   "cell_type": "code",
   "execution_count": null,
   "metadata": {
    "id": "NL2qDarn2p-w"
   },
   "outputs": [],
   "source": []
  },
  {
   "cell_type": "markdown",
   "metadata": {
    "id": "QUxTlvIeyQBp"
   },
   "source": [
    "# Exploring Multivariate Regression and Colinearity through the The Boston Housing Dataset\n",
    "We will take the Housing dataset which contains information about different houses in Boston. We can access this data from the scikit-learn library. There are 506 samples and 13 feature variables in this dataset. The objective is to **predict of prices of the houses using the given features**. First, we will import the required libraries and download the dataset. \n",
    "\n",
    "The rest of this notebook is a hands on example. Some of the code is not presented to you, and you need to come up with the solutions. Do not get worried. You will have the solutions next day, but you are expected to show the solutions during class. Happy coding!"
   ]
  },
  {
   "cell_type": "code",
   "execution_count": 9,
   "metadata": {
    "id": "llz9cYDAyQBp"
   },
   "outputs": [],
   "source": [
    "import matplotlib.pyplot as plt\n",
    "import seaborn as sns\n",
    "import numpy as np\n",
    "import pandas as pd\n",
    "from sklearn import datasets, linear_model\n",
    "from sklearn.metrics import mean_squared_error, r2_score"
   ]
  },
  {
   "cell_type": "code",
   "execution_count": 10,
   "metadata": {
    "id": "kkBTo2XtyQBr"
   },
   "outputs": [],
   "source": [
    "# Load the diabetes dataset\n",
    "boston_ds = datasets.load_boston()"
   ]
  },
  {
   "cell_type": "markdown",
   "metadata": {
    "id": "yldNevPFyQBr"
   },
   "source": [
    "- See the content of the boston_dataset "
   ]
  },
  {
   "cell_type": "code",
   "execution_count": 11,
   "metadata": {
    "colab": {
     "base_uri": "https://localhost:8080/"
    },
    "id": "WgyXY3DCyQBr",
    "outputId": "72fcb4b8-b8c0-44f4-87ea-aa8dbc1f6439"
   },
   "outputs": [
    {
     "data": {
      "text/plain": [
       "dict_keys(['data', 'target', 'feature_names', 'DESCR', 'filename'])"
      ]
     },
     "execution_count": 11,
     "metadata": {},
     "output_type": "execute_result"
    }
   ],
   "source": [
    "boston_ds.keys()"
   ]
  },
  {
   "cell_type": "markdown",
   "metadata": {
    "id": "cUmoIcsqyQBr"
   },
   "source": [
    "* data: contains the information for various houses\n",
    "\n",
    "* target: prices of the house\n",
    "\n",
    "* feature_names: names of the features\n",
    "\n",
    "* DESCR: describes the dataset\n",
    "\n",
    "Look at the Description of the dataset to see what it contains"
   ]
  },
  {
   "cell_type": "code",
   "execution_count": 12,
   "metadata": {
    "colab": {
     "base_uri": "https://localhost:8080/"
    },
    "id": "BlYFps1iyQBr",
    "outputId": "7213c71f-90ac-4fce-e832-1d20967e1eab"
   },
   "outputs": [
    {
     "name": "stdout",
     "output_type": "stream",
     "text": [
      ".. _boston_dataset:\n",
      "\n",
      "Boston house prices dataset\n",
      "---------------------------\n",
      "\n",
      "**Data Set Characteristics:**  \n",
      "\n",
      "    :Number of Instances: 506 \n",
      "\n",
      "    :Number of Attributes: 13 numeric/categorical predictive. Median Value (attribute 14) is usually the target.\n",
      "\n",
      "    :Attribute Information (in order):\n",
      "        - CRIM     per capita crime rate by town\n",
      "        - ZN       proportion of residential land zoned for lots over 25,000 sq.ft.\n",
      "        - INDUS    proportion of non-retail business acres per town\n",
      "        - CHAS     Charles River dummy variable (= 1 if tract bounds river; 0 otherwise)\n",
      "        - NOX      nitric oxides concentration (parts per 10 million)\n",
      "        - RM       average number of rooms per dwelling\n",
      "        - AGE      proportion of owner-occupied units built prior to 1940\n",
      "        - DIS      weighted distances to five Boston employment centres\n",
      "        - RAD      index of accessibility to radial highways\n",
      "        - TAX      full-value property-tax rate per $10,000\n",
      "        - PTRATIO  pupil-teacher ratio by town\n",
      "        - B        1000(Bk - 0.63)^2 where Bk is the proportion of blacks by town\n",
      "        - LSTAT    % lower status of the population\n",
      "        - MEDV     Median value of owner-occupied homes in $1000's\n",
      "\n",
      "    :Missing Attribute Values: None\n",
      "\n",
      "    :Creator: Harrison, D. and Rubinfeld, D.L.\n",
      "\n",
      "This is a copy of UCI ML housing dataset.\n",
      "https://archive.ics.uci.edu/ml/machine-learning-databases/housing/\n",
      "\n",
      "\n",
      "This dataset was taken from the StatLib library which is maintained at Carnegie Mellon University.\n",
      "\n",
      "The Boston house-price data of Harrison, D. and Rubinfeld, D.L. 'Hedonic\n",
      "prices and the demand for clean air', J. Environ. Economics & Management,\n",
      "vol.5, 81-102, 1978.   Used in Belsley, Kuh & Welsch, 'Regression diagnostics\n",
      "...', Wiley, 1980.   N.B. Various transformations are used in the table on\n",
      "pages 244-261 of the latter.\n",
      "\n",
      "The Boston house-price data has been used in many machine learning papers that address regression\n",
      "problems.   \n",
      "     \n",
      ".. topic:: References\n",
      "\n",
      "   - Belsley, Kuh & Welsch, 'Regression diagnostics: Identifying Influential Data and Sources of Collinearity', Wiley, 1980. 244-261.\n",
      "   - Quinlan,R. (1993). Combining Instance-Based and Model-Based Learning. In Proceedings on the Tenth International Conference of Machine Learning, 236-243, University of Massachusetts, Amherst. Morgan Kaufmann.\n",
      "\n"
     ]
    }
   ],
   "source": [
    "print(boston_ds.DESCR)"
   ]
  },
  {
   "cell_type": "code",
   "execution_count": 13,
   "metadata": {
    "colab": {
     "base_uri": "https://localhost:8080/",
     "height": 204
    },
    "id": "UJPnKW-ryQBr",
    "outputId": "e5bde95a-27f6-41c6-de84-7e2126cb963c",
    "scrolled": true
   },
   "outputs": [
    {
     "data": {
      "text/html": [
       "<div>\n",
       "<style scoped>\n",
       "    .dataframe tbody tr th:only-of-type {\n",
       "        vertical-align: middle;\n",
       "    }\n",
       "\n",
       "    .dataframe tbody tr th {\n",
       "        vertical-align: top;\n",
       "    }\n",
       "\n",
       "    .dataframe thead th {\n",
       "        text-align: right;\n",
       "    }\n",
       "</style>\n",
       "<table border=\"1\" class=\"dataframe\">\n",
       "  <thead>\n",
       "    <tr style=\"text-align: right;\">\n",
       "      <th></th>\n",
       "      <th>CRIM</th>\n",
       "      <th>ZN</th>\n",
       "      <th>INDUS</th>\n",
       "      <th>CHAS</th>\n",
       "      <th>NOX</th>\n",
       "      <th>RM</th>\n",
       "      <th>AGE</th>\n",
       "      <th>DIS</th>\n",
       "      <th>RAD</th>\n",
       "      <th>TAX</th>\n",
       "      <th>PTRATIO</th>\n",
       "      <th>B</th>\n",
       "      <th>LSTAT</th>\n",
       "    </tr>\n",
       "  </thead>\n",
       "  <tbody>\n",
       "    <tr>\n",
       "      <th>0</th>\n",
       "      <td>0.00632</td>\n",
       "      <td>18.0</td>\n",
       "      <td>2.31</td>\n",
       "      <td>0.0</td>\n",
       "      <td>0.538</td>\n",
       "      <td>6.575</td>\n",
       "      <td>65.2</td>\n",
       "      <td>4.0900</td>\n",
       "      <td>1.0</td>\n",
       "      <td>296.0</td>\n",
       "      <td>15.3</td>\n",
       "      <td>396.90</td>\n",
       "      <td>4.98</td>\n",
       "    </tr>\n",
       "    <tr>\n",
       "      <th>1</th>\n",
       "      <td>0.02731</td>\n",
       "      <td>0.0</td>\n",
       "      <td>7.07</td>\n",
       "      <td>0.0</td>\n",
       "      <td>0.469</td>\n",
       "      <td>6.421</td>\n",
       "      <td>78.9</td>\n",
       "      <td>4.9671</td>\n",
       "      <td>2.0</td>\n",
       "      <td>242.0</td>\n",
       "      <td>17.8</td>\n",
       "      <td>396.90</td>\n",
       "      <td>9.14</td>\n",
       "    </tr>\n",
       "    <tr>\n",
       "      <th>2</th>\n",
       "      <td>0.02729</td>\n",
       "      <td>0.0</td>\n",
       "      <td>7.07</td>\n",
       "      <td>0.0</td>\n",
       "      <td>0.469</td>\n",
       "      <td>7.185</td>\n",
       "      <td>61.1</td>\n",
       "      <td>4.9671</td>\n",
       "      <td>2.0</td>\n",
       "      <td>242.0</td>\n",
       "      <td>17.8</td>\n",
       "      <td>392.83</td>\n",
       "      <td>4.03</td>\n",
       "    </tr>\n",
       "    <tr>\n",
       "      <th>3</th>\n",
       "      <td>0.03237</td>\n",
       "      <td>0.0</td>\n",
       "      <td>2.18</td>\n",
       "      <td>0.0</td>\n",
       "      <td>0.458</td>\n",
       "      <td>6.998</td>\n",
       "      <td>45.8</td>\n",
       "      <td>6.0622</td>\n",
       "      <td>3.0</td>\n",
       "      <td>222.0</td>\n",
       "      <td>18.7</td>\n",
       "      <td>394.63</td>\n",
       "      <td>2.94</td>\n",
       "    </tr>\n",
       "    <tr>\n",
       "      <th>4</th>\n",
       "      <td>0.06905</td>\n",
       "      <td>0.0</td>\n",
       "      <td>2.18</td>\n",
       "      <td>0.0</td>\n",
       "      <td>0.458</td>\n",
       "      <td>7.147</td>\n",
       "      <td>54.2</td>\n",
       "      <td>6.0622</td>\n",
       "      <td>3.0</td>\n",
       "      <td>222.0</td>\n",
       "      <td>18.7</td>\n",
       "      <td>396.90</td>\n",
       "      <td>5.33</td>\n",
       "    </tr>\n",
       "  </tbody>\n",
       "</table>\n",
       "</div>"
      ],
      "text/plain": [
       "      CRIM    ZN  INDUS  CHAS    NOX     RM   AGE     DIS  RAD    TAX  \\\n",
       "0  0.00632  18.0   2.31   0.0  0.538  6.575  65.2  4.0900  1.0  296.0   \n",
       "1  0.02731   0.0   7.07   0.0  0.469  6.421  78.9  4.9671  2.0  242.0   \n",
       "2  0.02729   0.0   7.07   0.0  0.469  7.185  61.1  4.9671  2.0  242.0   \n",
       "3  0.03237   0.0   2.18   0.0  0.458  6.998  45.8  6.0622  3.0  222.0   \n",
       "4  0.06905   0.0   2.18   0.0  0.458  7.147  54.2  6.0622  3.0  222.0   \n",
       "\n",
       "   PTRATIO       B  LSTAT  \n",
       "0     15.3  396.90   4.98  \n",
       "1     17.8  396.90   9.14  \n",
       "2     17.8  392.83   4.03  \n",
       "3     18.7  394.63   2.94  \n",
       "4     18.7  396.90   5.33  "
      ]
     },
     "execution_count": 13,
     "metadata": {},
     "output_type": "execute_result"
    }
   ],
   "source": [
    "boston = pd.DataFrame(boston_ds.data, columns=boston_ds.feature_names)\n",
    "boston.head()"
   ]
  },
  {
   "cell_type": "markdown",
   "metadata": {
    "id": "t4Hb4dadyQBs"
   },
   "source": [
    "Note that the target variable **Median value of owner-occupied homes in $1000's** is missing from data. Read the targer variable and add it to the dataframe."
   ]
  },
  {
   "cell_type": "code",
   "execution_count": 14,
   "metadata": {
    "id": "3Y6u5Vk7yQBs"
   },
   "outputs": [],
   "source": [
    "boston['MEDV'] = boston_ds.target"
   ]
  },
  {
   "cell_type": "markdown",
   "metadata": {
    "id": "gPhsGU5hyQBs"
   },
   "source": [
    "### Data Preprocessing"
   ]
  },
  {
   "cell_type": "markdown",
   "metadata": {
    "id": "JXv8egx5yQBs"
   },
   "source": [
    "After loading the data, it’s a good practice to see if there are any missing values in the data. Count the number of missing values for each feature using isnull()"
   ]
  },
  {
   "cell_type": "code",
   "execution_count": 15,
   "metadata": {
    "colab": {
     "base_uri": "https://localhost:8080/"
    },
    "id": "FMXzMarayQBs",
    "outputId": "eb9aaf6a-359d-4736-ce0c-5b465337e5ad"
   },
   "outputs": [
    {
     "data": {
      "text/plain": [
       "CRIM       0\n",
       "ZN         0\n",
       "INDUS      0\n",
       "CHAS       0\n",
       "NOX        0\n",
       "RM         0\n",
       "AGE        0\n",
       "DIS        0\n",
       "RAD        0\n",
       "TAX        0\n",
       "PTRATIO    0\n",
       "B          0\n",
       "LSTAT      0\n",
       "MEDV       0\n",
       "dtype: int64"
      ]
     },
     "execution_count": 15,
     "metadata": {},
     "output_type": "execute_result"
    }
   ],
   "source": [
    "boston.isnull().sum()"
   ]
  },
  {
   "cell_type": "markdown",
   "metadata": {
    "id": "lXk2Ak4FyQBs"
   },
   "source": [
    "## Exploratory Data Analysis"
   ]
  },
  {
   "cell_type": "markdown",
   "metadata": {
    "id": "7tnaDJK1yQBs"
   },
   "source": [
    "Exploratory Data Analysis is a very important step before training the model. In this section, we will use some visualizations to understand the relationship of the target variable with other features.\n",
    "\n",
    "Let’s first plot the distribution of the target variable **MDEV**. You may plot it with different libraries, try using seaborn for a nicer plot. What distribution follows the data? Can you detect any outliers?"
   ]
  },
  {
   "cell_type": "code",
   "execution_count": 16,
   "metadata": {},
   "outputs": [
    {
     "data": {
      "text/plain": [
       "Index(['CRIM', 'ZN', 'INDUS', 'CHAS', 'NOX', 'RM', 'AGE', 'DIS', 'RAD', 'TAX',\n",
       "       'PTRATIO', 'B', 'LSTAT', 'MEDV'],\n",
       "      dtype='object')"
      ]
     },
     "execution_count": 16,
     "metadata": {},
     "output_type": "execute_result"
    }
   ],
   "source": [
    "boston.columns"
   ]
  },
  {
   "cell_type": "code",
   "execution_count": 17,
   "metadata": {
    "id": "f5U4HUQqyQBs",
    "outputId": "a273a081-5a27-456f-9cdb-369811de0967"
   },
   "outputs": [
    {
     "data": {
      "text/plain": [
       "<seaborn.axisgrid.FacetGrid at 0x7f34055154a8>"
      ]
     },
     "execution_count": 17,
     "metadata": {},
     "output_type": "execute_result"
    },
    {
     "data": {
      "image/png": "[encoded data removed]",
      "text/plain": [
       "<Figure size 360x360 with 1 Axes>"
      ]
     },
     "metadata": {
      "needs_background": "light"
     },
     "output_type": "display_data"
    }
   ],
   "source": [
    "sns.displot(boston, x=\"MEDV\", binwidth=3)"
   ]
  },
  {
   "cell_type": "markdown",
   "metadata": {
    "id": "sSNXed6dyQBs"
   },
   "source": [
    "- Create a pairplot, it allows us to see both distribution of single variables and relationships between two variables."
   ]
  },
  {
   "cell_type": "code",
   "execution_count": 28,
   "metadata": {},
   "outputs": [],
   "source": [
    "boston_two_features =  boston[['LSTAT','RM','MEDV']]"
   ]
  },
  {
   "cell_type": "code",
   "execution_count": 29,
   "metadata": {
    "id": "c6txBf--yQBs",
    "outputId": "77e73110-dee2-4b51-e949-ec4f779d170f",
    "scrolled": true
   },
   "outputs": [
    {
     "data": {
      "text/plain": [
       "<seaborn.axisgrid.PairGrid at 0x7f33fd6854e0>"
      ]
     },
     "execution_count": 29,
     "metadata": {},
     "output_type": "execute_result"
    },
    {
     "data": {
      "image/png": "[encoded data removed]",
      "text/plain": [
       "<Figure size 540x540 with 12 Axes>"
      ]
     },
     "metadata": {
      "needs_background": "light"
     },
     "output_type": "display_data"
    }
   ],
   "source": [
    "sns.pairplot(boston_two_features)"
   ]
  },
  {
   "cell_type": "markdown",
   "metadata": {
    "id": "hv1-97_syQBs"
   },
   "source": [
    "Next, we create a correlation matrix that measures the linear relationships between the variables. You may compute the correlation matrix using the corr function from the pandas dataframe library. Use the heatmap function from the seaborn library to plot the correlation matrix. Find the way to display the correlation numbers on each cell. What does a correlation of 1 mean, and a correlation of -1, and 0?. What properties does the correlation matrix have? Explain the diagonal."
   ]
  },
  {
   "cell_type": "code",
   "execution_count": 30,
   "metadata": {
    "id": "-sK27gJ3yQBs",
    "outputId": "edac3cef-2cbe-48dd-9992-b5d176ee59c3"
   },
   "outputs": [],
   "source": [
    "# Compute the correlation matrix\n",
    "corr = boston_two_features.corr()"
   ]
  },
  {
   "cell_type": "code",
   "execution_count": 31,
   "metadata": {
    "id": "-frnEauLyQBs",
    "outputId": "77a82fb2-a5b5-4fbf-df07-38bff8fc75a9"
   },
   "outputs": [],
   "source": [
    "#correlation_matrix"
   ]
  },
  {
   "cell_type": "code",
   "execution_count": 32,
   "metadata": {},
   "outputs": [],
   "source": [
    "# Generate a mask for the upper triangle\n",
    "mask = np.triu(np.ones_like(corr, dtype=bool))"
   ]
  },
  {
   "cell_type": "code",
   "execution_count": 33,
   "metadata": {},
   "outputs": [
    {
     "data": {
      "text/plain": [
       "array([[ True,  True,  True],\n",
       "       [False,  True,  True],\n",
       "       [False, False,  True]])"
      ]
     },
     "execution_count": 33,
     "metadata": {},
     "output_type": "execute_result"
    }
   ],
   "source": [
    "mask"
   ]
  },
  {
   "cell_type": "code",
   "execution_count": 34,
   "metadata": {},
   "outputs": [
    {
     "data": {
      "text/plain": [
       "<matplotlib.axes._subplots.AxesSubplot at 0x7f33fd2f7e80>"
      ]
     },
     "execution_count": 34,
     "metadata": {},
     "output_type": "execute_result"
    },
    {
     "data": {
      "image/png": "[encoded data removed]",
      "text/plain": [
       "<Figure size 792x648 with 2 Axes>"
      ]
     },
     "metadata": {
      "needs_background": "light"
     },
     "output_type": "display_data"
    }
   ],
   "source": [
    "# Set up the matplotlib figure\n",
    "f, ax = plt.subplots(figsize=(11, 9))\n",
    "\n",
    "# Generate a custom diverging colormap\n",
    "cmap = sns.diverging_palette(230, 20, as_cmap=True)\n",
    "\n",
    "# Draw the heatmap with the mask and correct aspect ratio\n",
    "sns.heatmap(corr, mask=mask, cmap=cmap, vmax=.3, center=0,\n",
    "            square=True, linewidths=.5, cbar_kws={\"shrink\": .5})"
   ]
  },
  {
   "cell_type": "markdown",
   "metadata": {
    "id": "TZK_6gPCyQBs"
   },
   "source": [
    "## Manual feature selection\n",
    "\n",
    "To fit a linear regression model, we select those features which have a high correlation with our target variable MEDV. By looking at the above plots which are the variables with strongest correlation to MEDV?\n",
    "\n",
    "Hint: check positive or negative correlations to MEDV in the table above"
   ]
  },
  {
   "cell_type": "markdown",
   "metadata": {
    "id": "tm8EEGUoyQBs"
   },
   "source": [
    "## Multi-co-linearity\n",
    "\n",
    "An important point in selecting features for a linear regression model is to check for multi-co-linearity. That is, we should not select feature pairs which are strongly correlated to each other. Let us see simple case with two (independent) variables to see why:\n",
    "\n",
    "Consider the simplest case where $Y$ is regressed against $X$ and $Z$ and where $X$ and $Z$ are highly positively correlated. Then the effect of $X$ on $Y$ is hard to distinguish from the effect of $Z$ on $Y$ because any increase in $X$ tends to be associated with an increase in $Z$.\n",
    "\n",
    "Another way to look at this is to consider the equation. If we write \n",
    "\n",
    "$$Y=b_0+b_1X+b_2Z+\\epsilon,$$\n",
    "\n",
    "then the coefficient $b_1$ is the increase in $Y$ for every unit increase in $X$ while holding $Z$ constant. But in practice, it is often impossible to hold $Z$ constant and the positive correlation between $X$ and $Z$ mean that a unit increase in $X$ is usually accompanied by some increase in $Z$ at the same time.\n",
    "\n",
    "Still confused? [A good example of multicolinarity in football](https://blog.minitab.com/blog/understanding-statistics/handling-multicollinearity-in-regression-analysis)\n",
    "\n",
    "### Which features have strong correlation?\n",
    "\n",
    "Finally, suggest two features to use for the regression. Use a scatter plot to see how these features vary with MEDV. Plot them using ```plt.subplot()``` and put the axis titles for each subplot.\n",
    "\n",
    "Then create 2 simple linear regression models (1 with each feature) and one multivariate model that uses both features."
   ]
  },
  {
   "cell_type": "code",
   "execution_count": 25,
   "metadata": {
    "id": "wT8iLhPnyQBs",
    "outputId": "b7f8e2e6-c7e7-441d-8d1b-1272f224b6a0"
   },
   "outputs": [
    {
     "data": {
      "image/png": "[encoded data removed]",
      "text/plain": [
       "<Figure size 1440x360 with 2 Axes>"
      ]
     },
     "metadata": {
      "needs_background": "light"
     },
     "output_type": "display_data"
    }
   ],
   "source": [
    "plt.figure(figsize=(20, 5))\n",
    "\n",
    "features = ['LSTAT', 'RM']\n",
    "target = boston['MEDV']\n",
    "\n",
    "for i, col in enumerate(features):\n",
    "    plt.subplot(1, len(features) , i+1)\n",
    "    x = boston[col]\n",
    "    y = target\n",
    "    plt.scatter(x, y, marker='o')\n",
    "    plt.title(col)\n",
    "    plt.xlabel(col)\n",
    "    plt.ylabel('MEDV')"
   ]
  },
  {
   "cell_type": "markdown",
   "metadata": {
    "id": "5K4ICuVpyQBt"
   },
   "source": [
    "What is the relationship between MDEV and LSTAT or RM? Does that make common sense given their descriptions? Can you detect any peculiarities in the data?"
   ]
  },
  {
   "cell_type": "markdown",
   "metadata": {
    "id": "N1iem6jmyQBt"
   },
   "source": [
    "## Simple Models LSTAT VS MEDV"
   ]
  },
  {
   "cell_type": "markdown",
   "metadata": {
    "id": "G5xF9vkxyQBt"
   },
   "source": [
    "#### Preparing the data for training"
   ]
  },
  {
   "cell_type": "code",
   "execution_count": 26,
   "metadata": {
    "id": "iJ18eyOWyQBt"
   },
   "outputs": [
    {
     "ename": "SyntaxError",
     "evalue": "invalid syntax (<ipython-input-26-d50459c989f0>, line 1)",
     "output_type": "error",
     "traceback": [
      "\u001b[0;36m  File \u001b[0;32m\"<ipython-input-26-d50459c989f0>\"\u001b[0;36m, line \u001b[0;32m1\u001b[0m\n\u001b[0;31m    X = # Put here the indipendent variable\u001b[0m\n\u001b[0m                                           ^\u001b[0m\n\u001b[0;31mSyntaxError\u001b[0m\u001b[0;31m:\u001b[0m invalid syntax\n"
     ]
    }
   ],
   "source": [
    "X = # Put here the indipendent variable\n",
    "Y = # Put here the Dipendent variable"
   ]
  },
  {
   "cell_type": "markdown",
   "metadata": {
    "id": "jsGqTHKZyQBt"
   },
   "source": [
    "### Training and test splits\n",
    "Next, we split the data into training and testing sets. We train the model with 80% of the samples and test with the remaining 20%. We do this to assess the model’s performance on unseen data. To split the data you may use ```scikit-learn library```. Finally print the sizes of our training and test set to verify if the splitting has occurred properly."
   ]
  },
  {
   "cell_type": "code",
   "execution_count": null,
   "metadata": {
    "id": "fRJ9QZrTyQBt",
    "outputId": "d007ce4b-b93e-429d-d713-2434cf91afc5"
   },
   "outputs": [],
   "source": [
    "from sklearn.model_selection import train_test_split\n",
    "\n",
    "X_train, X_test, Y_train, Y_test = \n",
    "print(X_train.shape)\n",
    "print(X_test.shape)\n",
    "print(Y_train.shape)\n",
    "print(Y_test.shape)"
   ]
  },
  {
   "cell_type": "markdown",
   "metadata": {
    "id": "TVL9gKUFyQBt"
   },
   "source": [
    "### Training and testing the model\n",
    "Use again ```scikit-learn``` to train a linear regression model on the training set."
   ]
  },
  {
   "cell_type": "code",
   "execution_count": null,
   "metadata": {
    "id": "TZ1gOrKyyQBt",
    "outputId": "bc1287e9-bd14-4c64-9c90-4e8b030c7027"
   },
   "outputs": [],
   "source": [
    "from sklearn.linear_model import LinearRegression\n",
    "from sklearn.metrics import mean_squared_error\n",
    "\n",
    "lin_model = LinearRegression()\n",
    "lin_model.fit(X_train, Y_train)"
   ]
  },
  {
   "cell_type": "code",
   "execution_count": null,
   "metadata": {
    "id": "83J2SbGQyQBt",
    "outputId": "45a74f8c-c0ef-49f9-f3a7-0e56278b7453"
   },
   "outputs": [],
   "source": [
    "lin_model.intercept_"
   ]
  },
  {
   "cell_type": "code",
   "execution_count": null,
   "metadata": {
    "id": "2TX7MYDxyQBt",
    "outputId": "84cc3c43-19aa-4bfb-d731-1a63c391d7b3"
   },
   "outputs": [],
   "source": [
    "coeff_df = pd.DataFrame(lin_model.coef_,X.columns,columns=['Coefficient'])\n",
    "coeff_df"
   ]
  },
  {
   "cell_type": "code",
   "execution_count": null,
   "metadata": {
    "id": "TmIl-MD2yQBt",
    "outputId": "8a6860b9-0083-4829-9fd5-9e475f487ec1"
   },
   "outputs": [],
   "source": [
    "plt.scatter(X_train, Y_train, color = \"blue\")\n",
    "plt.plot(X_train, lin_model.predict(X_train), color = \"green\")\n",
    "plt.title(\"LSTAT vs MEDV (Training set)\")\n",
    "plt.xlabel(\"LSTAT\")\n",
    "plt.ylabel(\"MEDV\")\n",
    "plt.show()"
   ]
  },
  {
   "cell_type": "markdown",
   "metadata": {
    "id": "N2YEmiczyQBt"
   },
   "source": [
    "- **Which value has the slope of the model? What does it mean?**\n",
    "- **Is there a positive or a negative relationship between the two variables?**"
   ]
  },
  {
   "cell_type": "markdown",
   "metadata": {
    "id": "-fqgoW5EyQBt"
   },
   "source": [
    "Write here your answer\n",
    "\n",
    "\n"
   ]
  },
  {
   "cell_type": "markdown",
   "metadata": {
    "id": "gEJGauTJyQBt"
   },
   "source": [
    "## Predictions from our Model\n",
    "\n",
    "Let's grab predictions off our test set and see how well it did!"
   ]
  },
  {
   "cell_type": "code",
   "execution_count": null,
   "metadata": {
    "id": "Qs2JQjmEyQBt"
   },
   "outputs": [],
   "source": [
    "predictions = "
   ]
  },
  {
   "cell_type": "markdown",
   "metadata": {
    "id": "hUMHGqJNyQBu"
   },
   "source": [
    "#### Plot Actual values VS Predictions.\n",
    "Perfect straight line would be perfectly correct predictions"
   ]
  },
  {
   "cell_type": "code",
   "execution_count": null,
   "metadata": {
    "id": "UufQSMPCyQBu",
    "outputId": "8cc08205-b6a2-47e0-a228-ea56ef1a1137"
   },
   "outputs": [],
   "source": [
    "plt.scatter(Y_test,predictions)"
   ]
  },
  {
   "cell_type": "markdown",
   "metadata": {
    "id": "gA3YN86-yQBu"
   },
   "source": [
    "### Creating the histogram of our residuals\n",
    "- Remember the residual is the difference between actual value and predicted value.\n",
    "- Residuals are normally distributed. If you have normally distributed residuals, it means your model is a correct choice for the data. "
   ]
  },
  {
   "cell_type": "code",
   "execution_count": null,
   "metadata": {
    "id": "NVRb8VMhyQBu",
    "outputId": "de664e8c-4384-48ce-8376-665b6172ff2c"
   },
   "outputs": [],
   "source": []
  },
  {
   "cell_type": "markdown",
   "metadata": {
    "id": "NBlLefQeyQBu"
   },
   "source": [
    "### Regression Evaluation Metrics\n",
    "\n",
    "\n",
    "Here are three common evaluation metrics for regression problems:\n",
    "\n",
    "**Mean Absolute Error** (MAE) is the mean of the absolute value of the errors:\n",
    "\n",
    "$$\\frac 1n\\sum_{i=1}^n|y_i-\\hat{y}_i|$$\n",
    "\n",
    "**Mean Squared Error** (MSE) is the mean of the squared errors:\n",
    "\n",
    "$$\\frac 1n\\sum_{i=1}^n(y_i-\\hat{y}_i)^2$$\n",
    "\n",
    "**Root Mean Squared Error** (RMSE) is the square root of the mean of the squared errors:\n",
    "\n",
    "$$\\sqrt{\\frac 1n\\sum_{i=1}^n(y_i-\\hat{y}_i)^2}$$\n",
    "\n",
    "All of the above functions are **loss functions**, because we want to minimize them.\n",
    "\n",
    "\n",
    "Comparing these metrics:\n",
    "\n",
    "- **MAE** is the easiest to understand, because it's the average error.\n",
    "- **MSE** is more popular than MAE, because MSE \"punishes\" larger errors, which tends to be useful in the real world.\n",
    "- **RMSE** is even more popular than MSE, because RMSE is interpretable in the \"y\" units.\n",
    "\n",
    "\n",
    "Another used metric is:\n",
    "**R Squared** (R^2) explains how close the data are to the fitted regression line.:\n",
    "\n",
    "\n",
    "$$1-\\frac{\\sum_{i=1}^n(y_i-\\hat{y}_i)^2}{\\sum_{i=1}^n(y_i-\\overline{y})^2}$$\n",
    "\n",
    "\n",
    "\n",
    "- **R2** is the ratio between how good our model is vs how good is the naive mean model. It is always going to be between -∞ and 1.\n",
    "\n"
   ]
  },
  {
   "cell_type": "markdown",
   "metadata": {
    "id": "CD06GxpIyQBu"
   },
   "source": [
    "### Evaluation using sklean"
   ]
  },
  {
   "cell_type": "code",
   "execution_count": null,
   "metadata": {
    "id": "tqfPPXu2yQBu",
    "outputId": "377b024d-efc9-4a72-e3ed-60f9481d8779"
   },
   "outputs": [],
   "source": [
    "from sklearn import metrics\n",
    "\n",
    "y_train_predict = lin_model.predict(X_train)\n",
    "\n",
    "print(\"The model performance for training set\")\n",
    "##Add code here to compute the metrics\n",
    "\n",
    "\n",
    "print(\"\\n\")\n",
    "\n",
    "y_test_predict = lin_model.predict(X_test)\n",
    "print(\"The model performance for testing set\")\n",
    "\n",
    "##Add code here to compute the metrics\n",
    "\n",
    "\n"
   ]
  },
  {
   "cell_type": "code",
   "execution_count": null,
   "metadata": {
    "id": "gMwuC1j-yQBu"
   },
   "outputs": [],
   "source": []
  },
  {
   "cell_type": "code",
   "execution_count": null,
   "metadata": {
    "id": "1CXj0ZAoyQBu"
   },
   "outputs": [],
   "source": []
  },
  {
   "cell_type": "code",
   "execution_count": null,
   "metadata": {
    "id": "6r4PY94xyQBu"
   },
   "outputs": [],
   "source": []
  },
  {
   "cell_type": "markdown",
   "metadata": {
    "id": "Eu7wPnanyQBu"
   },
   "source": [
    "## Simple Model 2: RM VS MEDV"
   ]
  },
  {
   "cell_type": "markdown",
   "metadata": {
    "id": "t7JoxFAayQBu"
   },
   "source": [
    "#### Preparing the data for training"
   ]
  },
  {
   "cell_type": "code",
   "execution_count": null,
   "metadata": {
    "id": "E68y9mmkyQBu"
   },
   "outputs": [],
   "source": [
    "X = \n",
    "Y = "
   ]
  },
  {
   "cell_type": "markdown",
   "metadata": {
    "id": "08_JCTJmyQBu"
   },
   "source": [
    "### Training and test splits\n",
    "Next, we split the data into training and testing sets. We train the model with 80% of the samples and test with the remaining 20%. We do this to assess the model’s performance on unseen data. To split the data you may use ```scikit-learn library```. Finally print the sizes of our training and test set to verify if the splitting has occurred properly."
   ]
  },
  {
   "cell_type": "code",
   "execution_count": null,
   "metadata": {
    "id": "fB6-kzrayQBu",
    "outputId": "060934e6-d75a-4a2f-8d9f-4511755e0d15"
   },
   "outputs": [],
   "source": [
    "from sklearn.model_selection import train_test_split\n",
    "\n",
    "X_train, X_test, Y_train, Y_test = \n",
    "print(X_train.shape)\n",
    "print(X_test.shape)\n",
    "print(Y_train.shape)\n",
    "print(Y_test.shape)"
   ]
  },
  {
   "cell_type": "markdown",
   "metadata": {
    "id": "ubD4zKgbyQBu"
   },
   "source": [
    "### Training and testing the model\n",
    "Use again ```scikit-learn``` to train a linear regression model on the training set."
   ]
  },
  {
   "cell_type": "code",
   "execution_count": null,
   "metadata": {
    "id": "1HB1O071yQBu",
    "outputId": "d5ebe87a-b8b8-4427-fd0a-0b85e0efb153"
   },
   "outputs": [],
   "source": [
    "from sklearn.linear_model import LinearRegression\n",
    "from sklearn.metrics import mean_squared_error\n",
    "\n"
   ]
  },
  {
   "cell_type": "code",
   "execution_count": null,
   "metadata": {
    "id": "-q7kF0GwyQBv",
    "outputId": "01ed2bd4-1468-446e-a54c-abb193b5733c"
   },
   "outputs": [],
   "source": [
    "lin_model.intercept_"
   ]
  },
  {
   "cell_type": "code",
   "execution_count": null,
   "metadata": {
    "id": "gK20zfMNyQBv",
    "outputId": "fcad498c-e684-47aa-8827-c14956b5c25f"
   },
   "outputs": [],
   "source": [
    "coeff_df = pd.DataFrame(lin_model.coef_,X.columns,columns=['Coefficient'])\n",
    "coeff_df"
   ]
  },
  {
   "cell_type": "code",
   "execution_count": null,
   "metadata": {
    "id": "Cq9hddPCyQBv",
    "outputId": "b4ea52bb-b6e3-447d-d64c-11231b9e67b3"
   },
   "outputs": [],
   "source": [
    "plt.scatter(X_train, Y_train, color = \"blue\")\n",
    "plt.plot(X_train, lin_model.predict(X_train), color = \"green\")\n",
    "plt.title(\"RM vs MEDV (Training set)\")\n",
    "plt.xlabel(\"RM\")\n",
    "plt.ylabel(\"MEDV\")\n",
    "plt.show()"
   ]
  },
  {
   "cell_type": "markdown",
   "metadata": {
    "id": "SPhTL9I8yQBw"
   },
   "source": [
    "- **What is the value of the slope of the model? How do you interpret it?**\n",
    "- **Is there a positive or a negative relationship between the two variables?**"
   ]
  },
  {
   "cell_type": "markdown",
   "metadata": {
    "id": "Ay_Gqpd-yQBw"
   },
   "source": [
    "## Predictions from the Model\n",
    "\n",
    "Let's grab predictions off our test set and see how well it did!"
   ]
  },
  {
   "cell_type": "code",
   "execution_count": null,
   "metadata": {
    "id": "IWoLGy-3yQBw"
   },
   "outputs": [],
   "source": [
    "predictions = "
   ]
  },
  {
   "cell_type": "markdown",
   "metadata": {
    "id": "G2H8672hyQBw"
   },
   "source": [
    "#### Plot Actual values VS Predictions.\n",
    "Perfect straight line would be perfectly correct predictions"
   ]
  },
  {
   "cell_type": "code",
   "execution_count": null,
   "metadata": {
    "id": "9RyBwM_5yQBw",
    "outputId": "01a3bd38-8b21-4e7a-95cd-4bb930c2bead"
   },
   "outputs": [],
   "source": [
    "plt.scatter(Y_test,predictions)"
   ]
  },
  {
   "cell_type": "markdown",
   "metadata": {
    "id": "Xvigxmu1yQBx"
   },
   "source": [
    "### Creating the histogram of our residuals\n",
    "- Residuals are normally distributed. If you have normally distributed residuals, it means your model is a correct choice for the data. "
   ]
  },
  {
   "cell_type": "code",
   "execution_count": null,
   "metadata": {
    "id": "USvWXiH3yQBx",
    "outputId": "73d532d7-4bf8-4fa7-8518-5d8451bb265e"
   },
   "outputs": [],
   "source": [
    "sns.distplot((Y_test-predictions),bins=50);"
   ]
  },
  {
   "cell_type": "markdown",
   "metadata": {
    "id": "5c91Z2_6yQBx"
   },
   "source": [
    "### Regression Evaluation Metrics\n",
    "\n",
    "\n",
    "Here are three common evaluation metrics for regression problems:\n",
    "\n",
    "**Mean Absolute Error** (MAE) is the mean of the absolute value of the errors:\n",
    "\n",
    "$$\\frac 1n\\sum_{i=1}^n|y_i-\\hat{y}_i|$$\n",
    "\n",
    "**Mean Squared Error** (MSE) is the mean of the squared errors:\n",
    "\n",
    "$$\\frac 1n\\sum_{i=1}^n(y_i-\\hat{y}_i)^2$$\n",
    "\n",
    "**Root Mean Squared Error** (RMSE) is the square root of the mean of the squared errors:\n",
    "\n",
    "$$\\sqrt{\\frac 1n\\sum_{i=1}^n(y_i-\\hat{y}_i)^2}$$\n",
    "\n",
    "All of the above functions are **loss functions**, because we want to minimize them.\n",
    "\n",
    "\n",
    "Comparing these metrics:\n",
    "\n",
    "- **MAE** is the easiest to understand, because it's the average error.\n",
    "- **MSE** is more popular than MAE, because MSE \"punishes\" larger errors, which tends to be useful in the real world.\n",
    "- **RMSE** is even more popular than MSE, because RMSE is interpretable in the \"y\" units.\n",
    "\n",
    "\n",
    "Another used metric is:\n",
    "**R Squared** (R^2) explains how close the data are to the fitted regression line.:\n",
    "\n",
    "\n",
    "$$1-\\frac{\\sum_{i=1}^n(y_i-\\hat{y}_i)^2}{\\sum_{i=1}^n(y_i-\\overline{y})^2}$$\n",
    "\n",
    "\n",
    "\n",
    "- **R2** is the ratio between how good our model is vs how good is the naive mean model. It is always going to be between -∞ and 1.\n",
    "\n",
    "\n",
    "\n",
    "\n",
    "Now evaluate the model using RMSE and R2-score."
   ]
  },
  {
   "cell_type": "markdown",
   "metadata": {
    "id": "o0fqReqByQBx"
   },
   "source": [
    "### Evaluation using sklean"
   ]
  },
  {
   "cell_type": "code",
   "execution_count": null,
   "metadata": {
    "id": "O7363oBlyQBx",
    "outputId": "6e403273-94b3-4d6c-84b2-7e3860681ca7"
   },
   "outputs": [],
   "source": [
    "from sklearn import metrics\n",
    "\n",
    "y_train_predict = lin_model.predict(X_train)\n",
    "\n",
    "print(\"The model performance for training set\")\n",
    "#Put your code here\n",
    "\n",
    "\n",
    "print(\"\\n\")\n",
    "\n",
    "y_test_predict = lin_model.predict(X_test)\n",
    "print(\"The model performance for testing set\")\n",
    "#Put your code here\n",
    "\n"
   ]
  },
  {
   "cell_type": "code",
   "execution_count": null,
   "metadata": {
    "id": "V_e7qZC6yQBx"
   },
   "outputs": [],
   "source": []
  },
  {
   "cell_type": "code",
   "execution_count": null,
   "metadata": {
    "id": "Wa7DMPFQyQBx"
   },
   "outputs": [],
   "source": []
  },
  {
   "cell_type": "code",
   "execution_count": null,
   "metadata": {
    "id": "3_WkODv4yQBx"
   },
   "outputs": [],
   "source": []
  },
  {
   "cell_type": "markdown",
   "metadata": {
    "id": "70ROZm1syQBx"
   },
   "source": [
    "## Multivariate model"
   ]
  },
  {
   "cell_type": "markdown",
   "metadata": {
    "id": "Axloou1WyQBx"
   },
   "source": [
    "### Preparing the data for training\n",
    "Concatenate the LSTAT and RM columns (you can use ```np.c_``` provided by the numpy library or any other method you prefer, such as just doing a column drop in pandas)."
   ]
  },
  {
   "cell_type": "code",
   "execution_count": null,
   "metadata": {
    "id": "iHc-scrJyQBx"
   },
   "outputs": [],
   "source": [
    "X = \n",
    "Y ="
   ]
  },
  {
   "cell_type": "markdown",
   "metadata": {
    "id": "r19zKWMsyQBx"
   },
   "source": [
    "### Training and test splits\n",
    "Next, we split the data into training and testing sets. We train the model with 80% of the samples and test with the remaining 20%. We do this to assess the model’s performance on unseen data. To split the data you may use ```scikit-learn library```. Finally print the sizes of our training and test set to verify if the splitting has occurred properly."
   ]
  },
  {
   "cell_type": "code",
   "execution_count": null,
   "metadata": {
    "id": "elZaLJoGyQBx",
    "outputId": "c8052fc4-0126-46ba-e609-0c98ea6558f6"
   },
   "outputs": [],
   "source": [
    "from sklearn.model_selection import train_test_split\n",
    "\n",
    "X_train, X_test, Y_train, Y_test = \n",
    "print(X_train.shape)\n",
    "print(X_test.shape)\n",
    "print(Y_train.shape)\n",
    "print(Y_test.shape)"
   ]
  },
  {
   "cell_type": "markdown",
   "metadata": {
    "id": "15hLpvz8yQBx"
   },
   "source": [
    "### Training and testing the model\n",
    "Use again ```scikit-learn``` to train a linear regression model on the training set."
   ]
  },
  {
   "cell_type": "code",
   "execution_count": null,
   "metadata": {
    "id": "aa2v-SIuyQBy",
    "outputId": "27e6a8a6-794b-4ee2-c580-7ba256a7601c"
   },
   "outputs": [],
   "source": [
    "from sklearn.linear_model import LinearRegression\n",
    "from sklearn.metrics import mean_squared_error\n",
    "\n"
   ]
  },
  {
   "cell_type": "markdown",
   "metadata": {
    "id": "8LmVw6TOyQBy"
   },
   "source": [
    "### Evaluation using sklean"
   ]
  },
  {
   "cell_type": "code",
   "execution_count": null,
   "metadata": {
    "id": "PKjqx2-zyQBy",
    "outputId": "c8428708-1bba-49bb-9ccf-8833570a3542"
   },
   "outputs": [],
   "source": [
    "from sklearn import metrics\n",
    "\n",
    "y_train_predict = lin_model.predict(X_train)\n",
    "\n",
    "print(\"The model performance for training set\")\n",
    "#Put your coe here\n",
    "\n",
    "\n",
    "print(\"\\n\")\n",
    "\n",
    "y_test_predict = lin_model.predict(X_test)\n",
    "print(\"The model performance for testing set\")\n",
    "#Put your coe here\n",
    "\n"
   ]
  },
  {
   "cell_type": "markdown",
   "metadata": {
    "id": "41B8nsZE6T-3"
   },
   "source": [
    "## Further exercises\n",
    "\n",
    "One good exercise is to do a multivariate regression with highly correlated dependant variables. Try that out and see how does it affect evaluation metrics, you can pick those high correlations from the confusion matrix you just did. \n",
    "\n",
    "Is always better to add all the data to a model?"
   ]
  },
  {
   "cell_type": "code",
   "execution_count": null,
   "metadata": {
    "id": "Tr2fzjX-6mru"
   },
   "outputs": [],
   "source": []
  },
  {
   "cell_type": "code",
   "execution_count": null,
   "metadata": {
    "id": "f435S-dmyQBy"
   },
   "outputs": [],
   "source": []
  }
 ],
 "metadata": {
  "colab": {
   "collapsed_sections": [],
   "name": "Session_1_Linear_Regression.ipynb",
   "provenance": [],
   "toc_visible": true
  },
  "kernelspec": {
   "display_name": "Python 3",
   "language": "python",
   "name": "python3"
  },
  "language_info": {
   "codemirror_mode": {
    "name": "ipython",
    "version": 3
   },
   "file_extension": ".py",
   "mimetype": "text/x-python",
   "name": "python",
   "nbconvert_exporter": "python",
   "pygments_lexer": "ipython3",
   "version": "3.7.3"
  }
 },
 "nbformat": 4,
 "nbformat_minor": 1
}
