{
 "cells": [
  {
   "cell_type": "markdown",
   "metadata": {
    "colab_type": "text",
    "id": "aB_ck5OSE3TU"
   },
   "source": [
    "![BTS](https://github.com/vfp1/bts-mbds-data-science-foundations-2019/raw/master/sessions/img/Logo-BTS.jpg)\n",
    "\n",
    "# Session 6: Decision Trees EXERCISES\n",
    "\n",
    "\n",
    "### Filipa Peleja <filipa.peleja@bts.tech>\n",
    "### Victor F. Pajuelo Madrigal <victor.pajuelo@bts.tech>\n",
    "\n",
    "## Classical Data Analysis (05-03-2021)\n",
    "\n",
    "Open this notebook in Google Colaboratory: [![Open in Colab](https://colab.research.google.com/assets/colab-badge.svg)](https://colab.research.google.com/github/vfp1/bts-cda-2020/blob/main/Session_10/Session_10_Classical_Data_Analysis_EXERCISES.ipynb)"
   ]
  },
  {
   "cell_type": "markdown",
   "metadata": {
    "colab_type": "text",
    "id": "_dCdQvVLm8DY"
   },
   "source": [
    "## EXERCISE 1 - Naive Bayes\n",
    "\n",
    "We will use a file called 'person_data.txt'. It contains 100 random person data, male and female, with body sizes, weights and gender tags."
   ]
  },
  {
   "cell_type": "markdown",
   "metadata": {
    "colab_type": "text",
    "id": "DewyrECuR7kG"
   },
   "source": [
    "**Q1. Designing a Feature class**\n",
    "\n",
    "The Feature class needs a label, e.g. \"heights\" or \"firstnames\". If the feature values are numerical we may want to \"bin\" them to reduce the number of possible feature values. The heights from our persons have a huge range and we have only 50 measured values for our Naive Bayes classes \"male\" and \"female\". We will bin them into ranges \"130 to 134\", \"135 to 139\", \"140 to 144\" and so on by setting bin_width to 5. There is no way of binning the first names, so bin_width will be set to None.\n",
    "\n",
    "The method frequency returns the number of occurrencies for a certain feature value or a binned range."
   ]
  },
  {
   "cell_type": "code",
   "execution_count": null,
   "metadata": {
    "colab": {},
    "colab_type": "code",
    "id": "RRdATwBGPAs2"
   },
   "outputs": [],
   "source": []
  },
  {
   "cell_type": "markdown",
   "metadata": {
    "colab_type": "text",
    "id": "iBer2I-FSJ3G"
   },
   "source": [
    "**Q2. Design the features**\n",
    "\n",
    "We will create now two feature classes Feature for the height values of the person data set. One Feature class contains the height for the Naive Bayes class \"male\" and one the heights for the class \"female\""
   ]
  },
  {
   "cell_type": "code",
   "execution_count": null,
   "metadata": {
    "colab": {
     "base_uri": "https://localhost:8080/",
     "height": 35
    },
    "colab_type": "code",
    "id": "4WTj4rzaSVC_",
    "outputId": "49927a3f-64b2-4879-88da-8ac4cd46f667"
   },
   "outputs": [],
   "source": []
  },
  {
   "cell_type": "markdown",
   "metadata": {
    "colab_type": "text",
    "id": "ejwKmbqqSXoJ"
   },
   "source": [
    "**Q3. Plot  the distribution of Male vs Female**\n",
    "\n",
    "Based on what you observe and your dataset, which Naive Bayes model that you've learned today is the best for this problem?"
   ]
  },
  {
   "cell_type": "code",
   "execution_count": null,
   "metadata": {
    "colab": {
     "base_uri": "https://localhost:8080/",
     "height": 467
    },
    "colab_type": "code",
    "id": "XwHRu9CkSbnH",
    "outputId": "e1f12ce7-168f-4954-91fc-064646df08f6"
   },
   "outputs": [],
   "source": []
  },
  {
   "cell_type": "markdown",
   "metadata": {
    "colab_type": "text",
    "id": "PJeq7G_lSw8p"
   },
   "source": [
    "**Q4. Build your Naive Bayes classifier**\n",
    "- with and without parameter tunning"
   ]
  },
  {
   "cell_type": "code",
   "execution_count": null,
   "metadata": {
    "colab": {
     "base_uri": "https://localhost:8080/",
     "height": 125
    },
    "colab_type": "code",
    "id": "mOkAtmchS04K",
    "outputId": "ffcb53d3-b2ea-44b1-fa1b-ad45484d29e3"
   },
   "outputs": [],
   "source": []
  },
  {
   "cell_type": "markdown",
   "metadata": {
    "colab_type": "text",
    "id": "iYIOkBscwKlx"
   },
   "source": [
    "## Place your reflections here about what you've learned\n",
    "* When should I used Naive Bayes?\n",
    "* Why is Naive Bayes powerful for some problems?\n",
    "* Why is Naive Bayes known for resolving NLP problems?"
   ]
  },
  {
   "cell_type": "code",
   "execution_count": null,
   "metadata": {
    "colab": {},
    "colab_type": "code",
    "id": "J2txhFq-wMn5"
   },
   "outputs": [],
   "source": []
  }
 ],
 "metadata": {
  "colab": {
   "collapsed_sections": [],
   "name": "Session_6_Classical_Data_Analysis_DT_EXERCISES.ipynb",
   "provenance": []
  },
  "kernelspec": {
   "display_name": "Python 3",
   "language": "python",
   "name": "python3"
  },
  "language_info": {
   "codemirror_mode": {
    "name": "ipython",
    "version": 3
   },
   "file_extension": ".py",
   "mimetype": "text/x-python",
   "name": "python",
   "nbconvert_exporter": "python",
   "pygments_lexer": "ipython3",
   "version": "3.7.4"
  }
 },
 "nbformat": 4,
 "nbformat_minor": 4
}
