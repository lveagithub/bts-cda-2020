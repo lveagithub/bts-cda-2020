{
 "cells": [
  {
   "cell_type": "markdown",
   "metadata": {},
   "source": [
    "### Required imports"
   ]
  },
  {
   "cell_type": "code",
   "execution_count": 1,
   "metadata": {},
   "outputs": [],
   "source": [
    "from graphviz import Source\n",
    "from sklearn import tree\n",
    "from sklearn.naive_bayes import GaussianNB\n",
    "from sklearn.model_selection import GridSearchCV, train_test_split\n",
    "from sklearn.metrics import confusion_matrix, classification_report\n",
    "from sklearn.preprocessing import StandardScaler\n",
    "from sklearn.tree import export_graphviz\n",
    "from urllib.request import urlopen\n",
    "from zipfile import ZipFile\n",
    "\n",
    "import numpy as np\n",
    "import matplotlib.pyplot as plt\n",
    "import pandas as pd\n",
    "import sklearn.datasets \n",
    "import seaborn as sns; sns.set()"
   ]
  },
  {
   "cell_type": "code",
   "execution_count": 2,
   "metadata": {},
   "outputs": [],
   "source": [
    "import warnings\n",
    "warnings.filterwarnings('ignore')"
   ]
  },
  {
   "cell_type": "markdown",
   "metadata": {},
   "source": [
    "### Methods"
   ]
  },
  {
   "cell_type": "code",
   "execution_count": 3,
   "metadata": {},
   "outputs": [],
   "source": [
    "def plot_confusion_matrix(\n",
    "    y_test:pd.core.frame.DataFrame,\n",
    "    pred_nb:np.array,\n",
    "    target_labels:list,\n",
    "):\n",
    "    mat = confusion_matrix(y_test, pred_nb)\n",
    "    sns.heatmap(mat.T, square=True, annot=True, fmt='d', cbar=False,\n",
    "                xticklabels=target_labels, yticklabels=target_labels)\n",
    "    plt.xlabel('true label')\n",
    "    plt.ylabel('predicted label')"
   ]
  },
  {
   "cell_type": "markdown",
   "metadata": {},
   "source": [
    "## Load Iris dataset"
   ]
  },
  {
   "cell_type": "code",
   "execution_count": 4,
   "metadata": {},
   "outputs": [],
   "source": [
    "iris = sklearn.datasets.load_iris()\n",
    "X=iris.data\n",
    "y=iris.target\n",
    "\n",
    "X_train, X_test, y_train, y_test = train_test_split(X, y, test_size=0.5)"
   ]
  },
  {
   "cell_type": "markdown",
   "metadata": {},
   "source": [
    "#### Build Guassian Classifier"
   ]
  },
  {
   "cell_type": "code",
   "execution_count": 5,
   "metadata": {},
   "outputs": [],
   "source": [
    "# Init the Gaussian Classifier\n",
    "model = GaussianNB()\n",
    "\n",
    "# Train the model \n",
    "model.fit(X_train, y_train)\n",
    "\n",
    "# Predict Output \n",
    "pred = model.predict(X_test)"
   ]
  },
  {
   "cell_type": "markdown",
   "metadata": {},
   "source": [
    "#### Build confusion matrix"
   ]
  },
  {
   "cell_type": "code",
   "execution_count": 6,
   "metadata": {},
   "outputs": [
    {
     "data": {
      "image/png": "[encoded data removed]",
      "text/plain": [
       "<Figure size 432x288 with 1 Axes>"
      ]
     },
     "metadata": {
      "needs_background": "light"
     },
     "output_type": "display_data"
    }
   ],
   "source": [
    "names = np.unique(pred)\n",
    "\n",
    "# Plot Confusion Matrix\n",
    "plot_confusion_matrix(y_test, pred, names)"
   ]
  },
  {
   "cell_type": "markdown",
   "metadata": {},
   "source": [
    "## Human Activity Recognition, or HAR for short\n",
    "Refers to the problem of predicting what a person is doing based on a trace of their movement using sensors.\n",
    "Movements are often normal indoor activities such as standing, sitting, jumping, and going up stairs.\n",
    "Sensors are often located on the subject, such as a smartphone or vest, and often record accelerometer data in three dimensions (x, y, z).\n",
    "Human Activity Recognition (HAR) aims to identify the actions carried out by a person given a set of observations of him/herself and the surrounding environment. Recognition can be accomplished by exploiting the information retrieved from various sources such as environmental or body-worn sensors.\n",
    "\n",
    "— A Public Domain Dataset for Human Activity Recognition Using Smartphones, 2013."
   ]
  },
  {
   "cell_type": "markdown",
   "metadata": {},
   "source": [
    "### Download the dataset"
   ]
  },
  {
   "cell_type": "code",
   "execution_count": 7,
   "metadata": {},
   "outputs": [],
   "source": [
    "url_dataset = 'https://archive.ics.uci.edu/ml/machine-learning-databases/00240/UCI%20HAR%20Dataset.zip'\n",
    "\n",
    "zipresp = urlopen(url_dataset)\n",
    "tempzip = open('tempfile.zip', 'wb')\n",
    "tempzip.write(zipresp.read())\n",
    "tempzip.close()\n",
    "zf = ZipFile('tempfile.zip')\n",
    "zf.extractall(path = 'dataset/')\n",
    "zf.close()"
   ]
  },
  {
   "cell_type": "code",
   "execution_count": 8,
   "metadata": {},
   "outputs": [],
   "source": [
    "# Load columns names\n",
    "fread = open('dataset/UCI HAR Dataset/features.txt', 'r')\n",
    "columns = fread.readlines()\n",
    "columns = [col\\\n",
    "           .replace('\\n', '')\\\n",
    "           .replace('(', '')\\\n",
    "           .replace(')', '')\\\n",
    "           .replace('-', '_')\\\n",
    "           .replace(',', '_')\\\n",
    "           .lower().split()[1] for col in columns]\n",
    "fread.close()"
   ]
  },
  {
   "cell_type": "code",
   "execution_count": 9,
   "metadata": {},
   "outputs": [],
   "source": [
    "fread = open('dataset/UCI HAR Dataset/activity_labels.txt', 'r')\n",
    "target_labels = fread.readlines()\n",
    "target_labels = [col\\\n",
    "                 .replace('\\n', '')\\\n",
    "                 .replace('(', '')\\\n",
    "                 .replace(')', '')\\\n",
    "                 .replace('-', '_')\\\n",
    "                 .replace(',', '_').lower().split()[1] for col in target_labels]"
   ]
  },
  {
   "cell_type": "code",
   "execution_count": 10,
   "metadata": {},
   "outputs": [],
   "source": [
    "# load a single file as a numpy array\n",
    "def load_file(filepath):\n",
    "    dataframe = pd.read_csv(filepath, header=None, delim_whitespace=True)\n",
    "    return dataframe\n",
    "\n",
    "X = load_file('dataset/UCI HAR Dataset/train/X_train.txt')\n",
    "X.columns = columns\n",
    "y = load_file('dataset/UCI HAR Dataset/train/y_train.txt')\n",
    "\n",
    "X_train, X_test, y_train, y_test = train_test_split(X, y, test_size=0.5, random_state=42)"
   ]
  },
  {
   "cell_type": "markdown",
   "metadata": {},
   "source": [
    "# Run a diverse set of nonlinear and ensemble machine learning algorithms\n",
    "\n",
    "Nonlinear Algorithms:\n",
    "\n",
    "    Classification and Regression Tree\n",
    "    Support Vector Machine\n",
    "    Naive Bayes\n",
    "\n",
    "Ensemble Algorithms:\n",
    "\n",
    "    Bagged Decision Trees\n",
    "    Random Forest\n",
    "    Extra Trees"
   ]
  },
  {
   "cell_type": "code",
   "execution_count": 11,
   "metadata": {},
   "outputs": [],
   "source": [
    "# import models\n",
    "\n",
    "# nonlinear models\n",
    "from sklearn.naive_bayes import GaussianNB\n",
    "from sklearn.svm import SVC\n",
    "from sklearn.tree import DecisionTreeClassifier\n",
    "\n",
    "# ensemble models\n",
    "from sklearn.ensemble import BaggingClassifier"
   ]
  },
  {
   "cell_type": "markdown",
   "metadata": {},
   "source": [
    "# Build a predictive model using Gaussian Naive Bayes\n",
    "- No need to to parameter tunning; use default values"
   ]
  },
  {
   "cell_type": "code",
   "execution_count": 12,
   "metadata": {},
   "outputs": [],
   "source": [
    "model_nb = GaussianNB()\n",
    "\n",
    "model_nb.fit(X_train,\n",
    "             y_train)\n",
    "\n",
    "pred_nb = model_nb.predict(X_test)"
   ]
  },
  {
   "cell_type": "markdown",
   "metadata": {},
   "source": [
    "### Run classification report and plot confusion matrix"
   ]
  },
  {
   "cell_type": "code",
   "execution_count": 13,
   "metadata": {},
   "outputs": [
    {
     "name": "stdout",
     "output_type": "stream",
     "text": [
      "                    precision    recall  f1-score   support\n",
      "\n",
      "           walking       0.93      0.73      0.82       606\n",
      "  walking_upstairs       0.66      0.91      0.77       532\n",
      "walking_downstairs       0.82      0.79      0.81       508\n",
      "           sitting       0.53      0.82      0.64       648\n",
      "          standing       0.84      0.74      0.79       676\n",
      "            laying       0.99      0.52      0.68       706\n",
      "\n",
      "          accuracy                           0.74      3676\n",
      "         macro avg       0.79      0.75      0.75      3676\n",
      "      weighted avg       0.80      0.74      0.75      3676\n",
      "\n"
     ]
    }
   ],
   "source": [
    "print(classification_report(y_true=y_test,\n",
    "                            y_pred=pred_nb,\n",
    "                            target_names=target_labels))"
   ]
  },
  {
   "cell_type": "code",
   "execution_count": 14,
   "metadata": {},
   "outputs": [
    {
     "data": {
      "image/png": "[encoded data removed]",
      "text/plain": [
       "<Figure size 432x288 with 1 Axes>"
      ]
     },
     "metadata": {
      "needs_background": "light"
     },
     "output_type": "display_data"
    }
   ],
   "source": [
    "plot_confusion_matrix(y_test, pred_nb, target_labels)"
   ]
  },
  {
   "cell_type": "markdown",
   "metadata": {},
   "source": [
    "# Tune your Gaussian Naive Bayes\n",
    "- var_smoothing: Portion of the largest variance of all features that is added to variances for calculation stability.\n",
    "\n",
    "[Sklearn Naive Bayes](https://scikit-learn.org/stable/modules/generated/sklearn.naive_bayes.GaussianNB.html)"
   ]
  },
  {
   "cell_type": "markdown",
   "metadata": {},
   "source": [
    "### Question: Explain in your own words what do you think var_smoothing is doing"
   ]
  },
  {
   "cell_type": "markdown",
   "metadata": {},
   "source": [
    "### Answer: \n",
    "Naive Bayes uses the a Gaussian distribution which attributes more weights to the samples closer to the distribution mean.\n",
    "This might or might not be appropriate depending if what you want to predict follows a normal distribution.\n",
    "\n",
    "This parameter (var_smoothing) allows to add distribution variance (default value is taken from the training dataset) which essencially widens/smooths the curve by taking into account samples that are further away from the distribution mean."
   ]
  },
  {
   "cell_type": "markdown",
   "metadata": {},
   "source": [
    "### Now, tune your model and see if you can improve the model's performance"
   ]
  },
  {
   "cell_type": "code",
   "execution_count": 15,
   "metadata": {},
   "outputs": [
    {
     "name": "stdout",
     "output_type": "stream",
     "text": [
      "Fitting 5 folds for each of 100 candidates, totalling 500 fits\n"
     ]
    },
    {
     "data": {
      "text/plain": [
       "{'var_smoothing': 1.0}"
      ]
     },
     "execution_count": 15,
     "metadata": {},
     "output_type": "execute_result"
    }
   ],
   "source": [
    "model_nb = GaussianNB()\n",
    "\n",
    "params_nb = {\n",
    "    'var_smoothing': np.logspace(0, -9, num=100)\n",
    "}\n",
    "\n",
    "grid_nb = GridSearchCV(estimator=model_nb,\n",
    "                        param_grid=params_nb,\n",
    "                        cv=5,\n",
    "                        verbose=1,\n",
    "                        scoring='precision'\n",
    "                       ) \n",
    "grid_nb.fit(X_train,\n",
    "            y_train)\n",
    "\n",
    "grid_nb.best_params_"
   ]
  },
  {
   "cell_type": "code",
   "execution_count": 16,
   "metadata": {},
   "outputs": [],
   "source": [
    "pred_nb = grid_nb.predict(X_test)"
   ]
  },
  {
   "cell_type": "markdown",
   "metadata": {},
   "source": [
    "## Run classification report and see improvement"
   ]
  },
  {
   "cell_type": "code",
   "execution_count": 17,
   "metadata": {},
   "outputs": [
    {
     "name": "stdout",
     "output_type": "stream",
     "text": [
      "                    precision    recall  f1-score   support\n",
      "\n",
      "           walking       0.80      0.84      0.82       606\n",
      "  walking_upstairs       0.74      0.91      0.81       532\n",
      "walking_downstairs       0.92      0.66      0.76       508\n",
      "           sitting       0.98      0.50      0.66       648\n",
      "          standing       0.68      0.99      0.81       676\n",
      "            laying       0.99      0.99      0.99       706\n",
      "\n",
      "          accuracy                           0.82      3676\n",
      "         macro avg       0.85      0.81      0.81      3676\n",
      "      weighted avg       0.85      0.82      0.81      3676\n",
      "\n"
     ]
    }
   ],
   "source": [
    "print(classification_report(y_true=y_test,\n",
    "                            y_pred=pred_nb,\n",
    "                            target_names=target_labels))"
   ]
  },
  {
   "cell_type": "markdown",
   "metadata": {},
   "source": [
    "# Build a predictive model using SVM\n",
    "- try a linear and non-linear kernel\n",
    "- no need to normalize the data because is already prepared"
   ]
  },
  {
   "cell_type": "code",
   "execution_count": 18,
   "metadata": {},
   "outputs": [
    {
     "data": {
      "text/plain": [
       "SVC(kernel='linear')"
      ]
     },
     "execution_count": 18,
     "metadata": {},
     "output_type": "execute_result"
    }
   ],
   "source": [
    "model_linear_svm = SVC(kernel='linear')\n",
    "\n",
    "model_linear_svm.fit(X_train,\n",
    "                     y_train)"
   ]
  },
  {
   "cell_type": "code",
   "execution_count": 19,
   "metadata": {},
   "outputs": [],
   "source": [
    "pred_linear_svm = model_linear_svm.predict(X_test)"
   ]
  },
  {
   "cell_type": "code",
   "execution_count": 20,
   "metadata": {},
   "outputs": [
    {
     "name": "stdout",
     "output_type": "stream",
     "text": [
      "                    precision    recall  f1-score   support\n",
      "\n",
      "           walking       0.99      1.00      1.00       606\n",
      "  walking_upstairs       1.00      0.99      0.99       532\n",
      "walking_downstairs       0.99      0.99      0.99       508\n",
      "           sitting       0.95      0.93      0.94       648\n",
      "          standing       0.93      0.95      0.94       676\n",
      "            laying       1.00      1.00      1.00       706\n",
      "\n",
      "          accuracy                           0.98      3676\n",
      "         macro avg       0.98      0.98      0.98      3676\n",
      "      weighted avg       0.98      0.98      0.98      3676\n",
      "\n"
     ]
    }
   ],
   "source": [
    "print(classification_report(y_true=y_test,\n",
    "                            y_pred=pred_linear_svm,\n",
    "                            target_names=target_labels))"
   ]
  },
  {
   "cell_type": "code",
   "execution_count": 21,
   "metadata": {},
   "outputs": [
    {
     "name": "stdout",
     "output_type": "stream",
     "text": [
      "                    precision    recall  f1-score   support\n",
      "\n",
      "           walking       0.99      0.99      0.99       606\n",
      "  walking_upstairs       0.98      0.98      0.98       532\n",
      "walking_downstairs       0.99      0.98      0.99       508\n",
      "           sitting       0.93      0.88      0.90       648\n",
      "          standing       0.89      0.94      0.91       676\n",
      "            laying       1.00      1.00      1.00       706\n",
      "\n",
      "          accuracy                           0.96      3676\n",
      "         macro avg       0.96      0.96      0.96      3676\n",
      "      weighted avg       0.96      0.96      0.96      3676\n",
      "\n"
     ]
    }
   ],
   "source": [
    "model_nonlinear_svm = SVC(kernel='rbf')\n",
    "\n",
    "model_nonlinear_svm.fit(X_train,\n",
    "                        y_train)\n",
    "\n",
    "pred_nonlinear_svm = model_nonlinear_svm.predict(X_test)\n",
    "\n",
    "print(classification_report(y_true=y_test,\n",
    "                            y_pred=pred_nonlinear_svm,\n",
    "                            target_names=target_labels))"
   ]
  },
  {
   "cell_type": "markdown",
   "metadata": {},
   "source": [
    "# Build a predictive model using Decision Trees\n",
    "- Parameter tuning for max depth from 2 to 4\n",
    "- Min sample nodes to split from 20% to 40%"
   ]
  },
  {
   "cell_type": "code",
   "execution_count": 22,
   "metadata": {},
   "outputs": [
    {
     "name": "stdout",
     "output_type": "stream",
     "text": [
      "Fitting 5 folds for each of 18 candidates, totalling 90 fits\n"
     ]
    },
    {
     "data": {
      "text/plain": [
       "{'max_depth': 4, 'min_samples_split': 0.2}"
      ]
     },
     "execution_count": 22,
     "metadata": {},
     "output_type": "execute_result"
    }
   ],
   "source": [
    "model_dt = DecisionTreeClassifier(random_state=42)\n",
    "\n",
    "params_dt = {\n",
    "    'max_depth': list(range(2, 8)),\n",
    "    'min_samples_split': [0.2, 0.3, 0.4],\n",
    "}\n",
    "\n",
    "grid_dt = GridSearchCV(estimator=model_dt,\n",
    "                       param_grid=params_dt,\n",
    "                       cv=5,\n",
    "                       verbose=1,\n",
    "                       scoring='accuracy'\n",
    "                      ) \n",
    "grid_dt.fit(X_train,\n",
    "            y_train)\n",
    "\n",
    "grid_dt.best_params_"
   ]
  },
  {
   "cell_type": "code",
   "execution_count": 23,
   "metadata": {},
   "outputs": [
    {
     "name": "stdout",
     "output_type": "stream",
     "text": [
      "                    precision    recall  f1-score   support\n",
      "\n",
      "           walking       0.81      0.86      0.83       606\n",
      "  walking_upstairs       0.77      0.79      0.78       532\n",
      "walking_downstairs       0.90      0.80      0.84       508\n",
      "           sitting       0.86      0.91      0.89       648\n",
      "          standing       0.90      0.86      0.88       676\n",
      "            laying       1.00      1.00      1.00       706\n",
      "\n",
      "          accuracy                           0.88      3676\n",
      "         macro avg       0.87      0.87      0.87      3676\n",
      "      weighted avg       0.88      0.88      0.88      3676\n",
      "\n"
     ]
    }
   ],
   "source": [
    "pred_dt = grid_dt.predict(X_test)\n",
    "\n",
    "print(classification_report(y_true=y_test,\n",
    "                            y_pred=pred_dt,\n",
    "                            target_names=target_labels))"
   ]
  },
  {
   "cell_type": "code",
   "execution_count": 24,
   "metadata": {},
   "outputs": [
    {
     "name": "stdout",
     "output_type": "stream",
     "text": [
      "                    precision    recall  f1-score   support\n",
      "\n",
      "           walking       0.89      0.92      0.91       606\n",
      "  walking_upstairs       0.89      0.87      0.88       532\n",
      "walking_downstairs       0.92      0.88      0.90       508\n",
      "           sitting       0.91      0.92      0.91       648\n",
      "          standing       0.91      0.92      0.91       676\n",
      "            laying       1.00      1.00      1.00       706\n",
      "\n",
      "          accuracy                           0.92      3676\n",
      "         macro avg       0.92      0.92      0.92      3676\n",
      "      weighted avg       0.92      0.92      0.92      3676\n",
      "\n"
     ]
    }
   ],
   "source": [
    "model_dt = DecisionTreeClassifier(random_state=42)\n",
    "\n",
    "model_dt.fit(X_train,\n",
    "            y_train)\n",
    "\n",
    "pred_dt = model_dt.predict(X_test)\n",
    "\n",
    "print(classification_report(y_true=y_test,\n",
    "                            y_pred=pred_dt,\n",
    "                            target_names=target_labels))"
   ]
  },
  {
   "cell_type": "code",
   "execution_count": 25,
   "metadata": {},
   "outputs": [
    {
     "data": {
      "image/png": "[encoded data removed]",
      "text/plain": [
       "<Figure size 432x288 with 1 Axes>"
      ]
     },
     "metadata": {
      "needs_background": "light"
     },
     "output_type": "display_data"
    }
   ],
   "source": [
    "# Other visualisations\n",
    "tree.plot_tree(model_dt);"
   ]
  },
  {
   "cell_type": "code",
   "execution_count": 26,
   "metadata": {},
   "outputs": [
    {
     "data": {
      "text/plain": [
       "'\\ntree.plot_tree(model_dt,\\n               feature_names = columns, \\n               class_names = target_labels,\\n               filled = True);\\n'"
      ]
     },
     "execution_count": 26,
     "metadata": {},
     "output_type": "execute_result"
    }
   ],
   "source": [
    "'''\n",
    "tree.plot_tree(model_dt,\n",
    "               feature_names = columns, \n",
    "               class_names = target_labels,\n",
    "               filled = True);\n",
    "'''"
   ]
  },
  {
   "cell_type": "code",
   "execution_count": 27,
   "metadata": {},
   "outputs": [
    {
     "data": {
      "text/plain": [
       "\"\\nfig, axes = plt.subplots(nrows = 1,\\n                         ncols = 1,\\n                         figsize = (4,4),\\n                         dpi=800)\\n\\ntree.plot_tree(model_dt,\\n               feature_names = columns, \\n               class_names=target_labels,\\n               filled = True);\\n\\nfig.savefig('decision_tree.png')\\n\""
      ]
     },
     "execution_count": 27,
     "metadata": {},
     "output_type": "execute_result"
    }
   ],
   "source": [
    "'''\n",
    "fig, axes = plt.subplots(nrows = 1,\n",
    "                         ncols = 1,\n",
    "                         figsize = (4,4),\n",
    "                         dpi=800)\n",
    "\n",
    "tree.plot_tree(model_dt,\n",
    "               feature_names = columns, \n",
    "               class_names=target_labels,\n",
    "               filled = True);\n",
    "\n",
    "fig.savefig('decision_tree.png')\n",
    "'''"
   ]
  },
  {
   "cell_type": "code",
   "execution_count": 28,
   "metadata": {},
   "outputs": [],
   "source": [
    "tree.export_graphviz(model_dt,\n",
    "                     out_file = 'tree.dot',\n",
    "                     feature_names = columns, \n",
    "                     class_names = target_labels,\n",
    "                     filled = True)\n",
    "\n",
    "# Load the file in the notebook\n",
    "#Source.from_file('tree.dot')"
   ]
  },
  {
   "cell_type": "markdown",
   "metadata": {},
   "source": [
    "### BaggingClassifier\n",
    "- Run 200 Decision Trees with 50 samples each and with bootstrapping"
   ]
  },
  {
   "cell_type": "code",
   "execution_count": 29,
   "metadata": {},
   "outputs": [],
   "source": [
    "bag_clf = BaggingClassifier(\n",
    "    DecisionTreeClassifier(random_state=42),\n",
    "    n_estimators = 200,\n",
    "    max_samples = 50,\n",
    "    bootstrap=True,\n",
    "    random_state=42\n",
    ")\n",
    "\n",
    "bag_clf.fit(X_train, y_train)\n",
    "\n",
    "y_pred = bag_clf.predict(X_test)"
   ]
  },
  {
   "cell_type": "code",
   "execution_count": 30,
   "metadata": {},
   "outputs": [
    {
     "name": "stdout",
     "output_type": "stream",
     "text": [
      "                    precision    recall  f1-score   support\n",
      "\n",
      "           walking       0.89      0.92      0.91       606\n",
      "  walking_upstairs       0.89      0.87      0.88       532\n",
      "walking_downstairs       0.92      0.88      0.90       508\n",
      "           sitting       0.91      0.92      0.91       648\n",
      "          standing       0.91      0.92      0.91       676\n",
      "            laying       1.00      1.00      1.00       706\n",
      "\n",
      "          accuracy                           0.92      3676\n",
      "         macro avg       0.92      0.92      0.92      3676\n",
      "      weighted avg       0.92      0.92      0.92      3676\n",
      "\n"
     ]
    }
   ],
   "source": [
    "print(classification_report(y_true=y_test,\n",
    "                            y_pred=pred_dt,\n",
    "                            target_names=target_labels))"
   ]
  },
  {
   "cell_type": "markdown",
   "metadata": {},
   "source": [
    "- (?) Same performance as before... what do you think is happening with this data? Try decreasing max_samples... what do you think?"
   ]
  },
  {
   "cell_type": "code",
   "execution_count": null,
   "metadata": {},
   "outputs": [],
   "source": []
  }
 ],
 "metadata": {
  "kernelspec": {
   "display_name": "Python 3",
   "language": "python",
   "name": "python3"
  },
  "language_info": {
   "codemirror_mode": {
    "name": "ipython",
    "version": 3
   },
   "file_extension": ".py",
   "mimetype": "text/x-python",
   "name": "python",
   "nbconvert_exporter": "python",
   "pygments_lexer": "ipython3",
   "version": "3.7.4"
  }
 },
 "nbformat": 4,
 "nbformat_minor": 4
}
